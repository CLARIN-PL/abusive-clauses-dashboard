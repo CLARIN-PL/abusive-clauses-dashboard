{
 "cells": [
  {
   "cell_type": "code",
   "execution_count": 5,
   "metadata": {
    "collapsed": false,
    "pycharm": {
     "name": "#%%\n"
    }
   },
   "outputs": [],
   "source": [
    "from datasets import load_dataset\n",
    "import pandas as pd"
   ]
  },
  {
   "cell_type": "code",
   "execution_count": 3,
   "outputs": [
    {
     "name": "stderr",
     "output_type": "stream",
     "text": [
      "No config specified, defaulting to: polemo2-official/all_text\n",
      "Reusing dataset polemo2-official (/Users/mariuszkossakowski/.cache/huggingface/datasets/clarin-pl___polemo2-official/all_text/0.0.0/2b75fdbe5def97538e81fb120f8752744b50729a4ce09bd75132bfc863a2fd70)\n"
     ]
    },
    {
     "data": {
      "text/plain": "  0%|          | 0/3 [00:00<?, ?it/s]",
      "application/vnd.jupyter.widget-view+json": {
       "version_major": 2,
       "version_minor": 0,
       "model_id": "6a2456c69b704c5bba6bf73dca97e459"
      }
     },
     "metadata": {},
     "output_type": "display_data"
    }
   ],
   "source": [
    "data = load_dataset(\"clarin-pl/polemo2-official\")\n",
    "DATA_DICT = {\n",
    "    \"train\": data[\"train\"].to_pandas(),\n",
    "    \"validation\": data[\"validation\"].to_pandas(),\n",
    "    \"test\": data[\"test\"].to_pandas()\n",
    "}"
   ],
   "metadata": {
    "collapsed": false,
    "pycharm": {
     "name": "#%%\n"
    }
   }
  },
  {
   "cell_type": "code",
   "execution_count": 4,
   "outputs": [
    {
     "data": {
      "text/plain": "DatasetDict({\n    train: Dataset({\n        features: ['text', 'target'],\n        num_rows: 6573\n    })\n    validation: Dataset({\n        features: ['text', 'target'],\n        num_rows: 823\n    })\n    test: Dataset({\n        features: ['text', 'target'],\n        num_rows: 820\n    })\n})"
     },
     "execution_count": 4,
     "metadata": {},
     "output_type": "execute_result"
    }
   ],
   "source": [
    "data"
   ],
   "metadata": {
    "collapsed": false,
    "pycharm": {
     "name": "#%%\n"
    }
   }
  },
  {
   "cell_type": "code",
   "execution_count": 6,
   "outputs": [],
   "source": [
    "abusive_clauses_train = pd.read_csv(\"data/train.csv\")"
   ],
   "metadata": {
    "collapsed": false,
    "pycharm": {
     "name": "#%%\n"
    }
   }
  },
  {
   "cell_type": "code",
   "execution_count": 7,
   "outputs": [
    {
     "data": {
      "text/plain": "                                                text              label\n0  Wszelka korespondencja wysyłana przez Pożyczko...  KLAUZULA_ABUZYWNA\n1  W przypadku opóźnień Pożyczkobiorcy w spłacie ...  KLAUZULA_ABUZYWNA\n2  W przypadku opóźnień Pożyczkobiorcy w spłacie ...  KLAUZULA_ABUZYWNA\n3  Pożyczkobiorca zleca firmie Narodowy Fundusz P...  KLAUZULA_ABUZYWNA\n4  Od niespłaconej w terminie raty Pożyczkobiorca...  KLAUZULA_ABUZYWNA",
      "text/html": "<div>\n<style scoped>\n    .dataframe tbody tr th:only-of-type {\n        vertical-align: middle;\n    }\n\n    .dataframe tbody tr th {\n        vertical-align: top;\n    }\n\n    .dataframe thead th {\n        text-align: right;\n    }\n</style>\n<table border=\"1\" class=\"dataframe\">\n  <thead>\n    <tr style=\"text-align: right;\">\n      <th></th>\n      <th>text</th>\n      <th>label</th>\n    </tr>\n  </thead>\n  <tbody>\n    <tr>\n      <th>0</th>\n      <td>Wszelka korespondencja wysyłana przez Pożyczko...</td>\n      <td>KLAUZULA_ABUZYWNA</td>\n    </tr>\n    <tr>\n      <th>1</th>\n      <td>W przypadku opóźnień Pożyczkobiorcy w spłacie ...</td>\n      <td>KLAUZULA_ABUZYWNA</td>\n    </tr>\n    <tr>\n      <th>2</th>\n      <td>W przypadku opóźnień Pożyczkobiorcy w spłacie ...</td>\n      <td>KLAUZULA_ABUZYWNA</td>\n    </tr>\n    <tr>\n      <th>3</th>\n      <td>Pożyczkobiorca zleca firmie Narodowy Fundusz P...</td>\n      <td>KLAUZULA_ABUZYWNA</td>\n    </tr>\n    <tr>\n      <th>4</th>\n      <td>Od niespłaconej w terminie raty Pożyczkobiorca...</td>\n      <td>KLAUZULA_ABUZYWNA</td>\n    </tr>\n  </tbody>\n</table>\n</div>"
     },
     "execution_count": 7,
     "metadata": {},
     "output_type": "execute_result"
    }
   ],
   "source": [
    "abusive_clauses_train.head()"
   ],
   "metadata": {
    "collapsed": false,
    "pycharm": {
     "name": "#%%\n"
    }
   }
  },
  {
   "cell_type": "code",
   "execution_count": 13,
   "outputs": [],
   "source": [
    "u = abusive_clauses_train[\"label\"].unique()"
   ],
   "metadata": {
    "collapsed": false,
    "pycharm": {
     "name": "#%%\n"
    }
   }
  },
  {
   "cell_type": "code",
   "execution_count": 14,
   "outputs": [
    {
     "data": {
      "text/plain": "'KLAUZULA_ABUZYWNA'"
     },
     "execution_count": 14,
     "metadata": {},
     "output_type": "execute_result"
    }
   ],
   "source": [
    "u[0]"
   ],
   "metadata": {
    "collapsed": false,
    "pycharm": {
     "name": "#%%\n"
    }
   }
  },
  {
   "cell_type": "code",
   "execution_count": null,
   "outputs": [],
   "source": [],
   "metadata": {
    "collapsed": false,
    "pycharm": {
     "name": "#%%\n"
    }
   }
  },
  {
   "cell_type": "code",
   "execution_count": null,
   "outputs": [],
   "source": [],
   "metadata": {
    "collapsed": false,
    "pycharm": {
     "name": "#%%\n"
    }
   }
  },
  {
   "cell_type": "code",
   "execution_count": null,
   "outputs": [],
   "source": [],
   "metadata": {
    "collapsed": false,
    "pycharm": {
     "name": "#%%\n"
    }
   }
  },
  {
   "cell_type": "code",
   "execution_count": null,
   "outputs": [],
   "source": [],
   "metadata": {
    "collapsed": false,
    "pycharm": {
     "name": "#%%\n"
    }
   }
  }
 ],
 "metadata": {
  "kernelspec": {
   "display_name": "Python 3.10.4",
   "language": "python",
   "name": "python3"
  },
  "language_info": {
   "codemirror_mode": {
    "name": "ipython",
    "version": 2
   },
   "file_extension": ".py",
   "mimetype": "text/x-python",
   "name": "python",
   "nbconvert_exporter": "python",
   "pygments_lexer": "ipython2",
   "version": "3.10.4"
  },
  "vscode": {
   "interpreter": {
    "hash": "a35b1d973bd09735f84c8c92afe0d03a2162b3a23ad0bf02b575293657dc3e14"
   }
  }
 },
 "nbformat": 4,
 "nbformat_minor": 0
}