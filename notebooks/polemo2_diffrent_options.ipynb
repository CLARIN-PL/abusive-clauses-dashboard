{
 "cells": [
  {
   "cell_type": "code",
   "execution_count": 1,
   "outputs": [],
   "source": [
    "from datasets import load_dataset"
   ],
   "metadata": {
    "collapsed": false,
    "pycharm": {
     "name": "#%%\n"
    }
   }
  },
  {
   "cell_type": "code",
   "execution_count": 2,
   "outputs": [
    {
     "data": {
      "text/plain": "Downloading builder script:   0%|          | 0.00/3.66k [00:00<?, ?B/s]",
      "application/vnd.jupyter.widget-view+json": {
       "version_major": 2,
       "version_minor": 0,
       "model_id": "38e49034042948579b7bb0d86b594f16"
      }
     },
     "metadata": {},
     "output_type": "display_data"
    },
    {
     "data": {
      "text/plain": "Downloading metadata:   0%|          | 0.00/1.73k [00:00<?, ?B/s]",
      "application/vnd.jupyter.widget-view+json": {
       "version_major": 2,
       "version_minor": 0,
       "model_id": "8107313107224c6bb09d30617494061d"
      }
     },
     "metadata": {},
     "output_type": "display_data"
    },
    {
     "name": "stderr",
     "output_type": "stream",
     "text": [
      "Using custom data configuration default\n"
     ]
    },
    {
     "name": "stdout",
     "output_type": "stream",
     "text": [
      "Downloading and preparing dataset nkjp-pos/default (download: 25.61 MiB, generated: 22.99 MiB, post-processed: Unknown size, total: 48.60 MiB) to /Users/mariuszkossakowski/.cache/huggingface/datasets/clarin-pl___nkjp-pos/default/1.1.0/60aa570e217744cb729370c55ff88a1a84520f6ad73cbdd51395024fd8edd633...\n"
     ]
    },
    {
     "data": {
      "text/plain": "Downloading data files:   0%|          | 0/2 [00:00<?, ?it/s]",
      "application/vnd.jupyter.widget-view+json": {
       "version_major": 2,
       "version_minor": 0,
       "model_id": "69e6e0e97fb246afa7a374dfbc94083a"
      }
     },
     "metadata": {},
     "output_type": "display_data"
    },
    {
     "data": {
      "text/plain": "Downloading data:   0%|          | 0.00/24.5M [00:00<?, ?B/s]",
      "application/vnd.jupyter.widget-view+json": {
       "version_major": 2,
       "version_minor": 0,
       "model_id": "e9d2eb3d3eb540528f750ee6a993f374"
      }
     },
     "metadata": {},
     "output_type": "display_data"
    },
    {
     "data": {
      "text/plain": "Downloading data:   0%|          | 0.00/2.35M [00:00<?, ?B/s]",
      "application/vnd.jupyter.widget-view+json": {
       "version_major": 2,
       "version_minor": 0,
       "model_id": "01d58dff4f2b4234b3fe9657133f7063"
      }
     },
     "metadata": {},
     "output_type": "display_data"
    },
    {
     "data": {
      "text/plain": "Extracting data files:   0%|          | 0/2 [00:00<?, ?it/s]",
      "application/vnd.jupyter.widget-view+json": {
       "version_major": 2,
       "version_minor": 0,
       "model_id": "64fcd8d9bc5141c89ac76a8b2c445bc5"
      }
     },
     "metadata": {},
     "output_type": "display_data"
    },
    {
     "data": {
      "text/plain": "Generating train split:   0%|          | 0/78219 [00:00<?, ? examples/s]",
      "application/vnd.jupyter.widget-view+json": {
       "version_major": 2,
       "version_minor": 0,
       "model_id": "77df269716e94fdc811a2945b3221211"
      }
     },
     "metadata": {},
     "output_type": "display_data"
    },
    {
     "data": {
      "text/plain": "Generating test split:   0%|          | 0/7444 [00:00<?, ? examples/s]",
      "application/vnd.jupyter.widget-view+json": {
       "version_major": 2,
       "version_minor": 0,
       "model_id": "90a791820aae4257b9155d609fc99613"
      }
     },
     "metadata": {},
     "output_type": "display_data"
    },
    {
     "name": "stdout",
     "output_type": "stream",
     "text": [
      "Dataset nkjp-pos downloaded and prepared to /Users/mariuszkossakowski/.cache/huggingface/datasets/clarin-pl___nkjp-pos/default/1.1.0/60aa570e217744cb729370c55ff88a1a84520f6ad73cbdd51395024fd8edd633. Subsequent calls will reuse this data.\n"
     ]
    },
    {
     "data": {
      "text/plain": "  0%|          | 0/2 [00:00<?, ?it/s]",
      "application/vnd.jupyter.widget-view+json": {
       "version_major": 2,
       "version_minor": 0,
       "model_id": "6c4b172db38045a3b765aaf648df93fb"
      }
     },
     "metadata": {},
     "output_type": "display_data"
    }
   ],
   "source": [
    "data = load_dataset(\"clarin-pl/nkjp-pos\")"
   ],
   "metadata": {
    "collapsed": false,
    "pycharm": {
     "name": "#%%\n"
    }
   }
  },
  {
   "cell_type": "code",
   "execution_count": 3,
   "outputs": [
    {
     "data": {
      "text/plain": "DatasetDict({\n    train: Dataset({\n        features: ['id', 'tokens', 'pos_tags'],\n        num_rows: 78219\n    })\n    test: Dataset({\n        features: ['id', 'tokens', 'pos_tags'],\n        num_rows: 7444\n    })\n})"
     },
     "execution_count": 3,
     "metadata": {},
     "output_type": "execute_result"
    }
   ],
   "source": [
    "data"
   ],
   "metadata": {
    "collapsed": false,
    "pycharm": {
     "name": "#%%\n"
    }
   }
  },
  {
   "cell_type": "code",
   "execution_count": 4,
   "outputs": [],
   "source": [
    "DATA_DICT = {\n",
    "    \"train\": data[\"train\"].to_pandas(),\n",
    "    \"test\": data[\"test\"].to_pandas(),\n",
    "}"
   ],
   "metadata": {
    "collapsed": false,
    "pycharm": {
     "name": "#%%\n"
    }
   }
  },
  {
   "cell_type": "code",
   "execution_count": 5,
   "outputs": [
    {
     "data": {
      "text/plain": "                             id  \\\n0     610-1-000883_morph_1.27-s   \n1     610-1-000883_morph_1.45-s   \n2   620-3-010001449_morph_1.4-s   \n3   620-3-010001449_morph_1.8-s   \n4  620-3-010001449_morph_1.22-s   \n\n                                              tokens  \\\n0  [1, ., Przewodniczący, obwodowej, komisji, wyb...   \n1  [2, ., Do, protokołu, obwodowa, komisja, wybor...   \n2                               [Jak, to, po, co, ?]   \n3                      [Aby, zarabiać, pieniądze, !]   \n4  [Zwróć, uwagę, na, paniczne, wręcz, w, swym, b...   \n\n                                            pos_tags  \n0  [1, 16, 19, 1, 19, 1, 12, 3, 1, 19, 19, 19, 34...  \n1  [1, 16, 34, 19, 1, 19, 1, 12, 19, 23, 19, 11, ...  \n2                                [3, 19, 34, 19, 16]  \n3                                    [5, 24, 19, 16]  \n4  [17, 19, 34, 1, 18, 34, 1, 19, 1, 19, 34, 1, 1...  ",
      "text/html": "<div>\n<style scoped>\n    .dataframe tbody tr th:only-of-type {\n        vertical-align: middle;\n    }\n\n    .dataframe tbody tr th {\n        vertical-align: top;\n    }\n\n    .dataframe thead th {\n        text-align: right;\n    }\n</style>\n<table border=\"1\" class=\"dataframe\">\n  <thead>\n    <tr style=\"text-align: right;\">\n      <th></th>\n      <th>id</th>\n      <th>tokens</th>\n      <th>pos_tags</th>\n    </tr>\n  </thead>\n  <tbody>\n    <tr>\n      <th>0</th>\n      <td>610-1-000883_morph_1.27-s</td>\n      <td>[1, ., Przewodniczący, obwodowej, komisji, wyb...</td>\n      <td>[1, 16, 19, 1, 19, 1, 12, 3, 1, 19, 19, 19, 34...</td>\n    </tr>\n    <tr>\n      <th>1</th>\n      <td>610-1-000883_morph_1.45-s</td>\n      <td>[2, ., Do, protokołu, obwodowa, komisja, wybor...</td>\n      <td>[1, 16, 34, 19, 1, 19, 1, 12, 19, 23, 19, 11, ...</td>\n    </tr>\n    <tr>\n      <th>2</th>\n      <td>620-3-010001449_morph_1.4-s</td>\n      <td>[Jak, to, po, co, ?]</td>\n      <td>[3, 19, 34, 19, 16]</td>\n    </tr>\n    <tr>\n      <th>3</th>\n      <td>620-3-010001449_morph_1.8-s</td>\n      <td>[Aby, zarabiać, pieniądze, !]</td>\n      <td>[5, 24, 19, 16]</td>\n    </tr>\n    <tr>\n      <th>4</th>\n      <td>620-3-010001449_morph_1.22-s</td>\n      <td>[Zwróć, uwagę, na, paniczne, wręcz, w, swym, b...</td>\n      <td>[17, 19, 34, 1, 18, 34, 1, 19, 1, 19, 34, 1, 1...</td>\n    </tr>\n  </tbody>\n</table>\n</div>"
     },
     "execution_count": 5,
     "metadata": {},
     "output_type": "execute_result"
    }
   ],
   "source": [
    "DATA_DICT[\"train\"].head()"
   ],
   "metadata": {
    "collapsed": false,
    "pycharm": {
     "name": "#%%\n"
    }
   }
  },
  {
   "cell_type": "code",
   "execution_count": 6,
   "outputs": [
    {
     "data": {
      "text/plain": "78219"
     },
     "execution_count": 6,
     "metadata": {},
     "output_type": "execute_result"
    }
   ],
   "source": [
    "DATA_DICT[\"train\"].shape[0]"
   ],
   "metadata": {
    "collapsed": false,
    "pycharm": {
     "name": "#%%\n"
    }
   }
  },
  {
   "cell_type": "code",
   "execution_count": null,
   "outputs": [],
   "source": [],
   "metadata": {
    "collapsed": false,
    "pycharm": {
     "name": "#%%\n"
    }
   }
  }
 ],
 "metadata": {
  "kernelspec": {
   "display_name": "Python 3",
   "language": "python",
   "name": "python3"
  },
  "language_info": {
   "codemirror_mode": {
    "name": "ipython",
    "version": 2
   },
   "file_extension": ".py",
   "mimetype": "text/x-python",
   "name": "python",
   "nbconvert_exporter": "python",
   "pygments_lexer": "ipython2",
   "version": "2.7.6"
  }
 },
 "nbformat": 4,
 "nbformat_minor": 0
}