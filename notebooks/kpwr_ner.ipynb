{
 "cells": [
  {
   "cell_type": "code",
   "execution_count": 22,
   "metadata": {
    "collapsed": true
   },
   "outputs": [],
   "source": [
    "import pandas as pd\n",
    "from datasets import load_dataset"
   ]
  },
  {
   "cell_type": "code",
   "execution_count": 2,
   "outputs": [
    {
     "name": "stderr",
     "output_type": "stream",
     "text": [
      "Using custom data configuration default\n",
      "Reusing dataset kpwr-ner (/Users/mariuszkossakowski/.cache/huggingface/datasets/clarin-pl___kpwr-ner/default/0.0.0/001e3d471298007e8412e3a6ccc06bec000dec1bce0cf8e0ba7e5b7e105b1342)\n"
     ]
    },
    {
     "data": {
      "text/plain": "  0%|          | 0/2 [00:00<?, ?it/s]",
      "application/vnd.jupyter.widget-view+json": {
       "version_major": 2,
       "version_minor": 0,
       "model_id": "657e0c128bd84523b266afe1fa962653"
      }
     },
     "metadata": {},
     "output_type": "display_data"
    }
   ],
   "source": [
    "raw_dataset = load_dataset(\"clarin-pl/kpwr-ner\")"
   ],
   "metadata": {
    "collapsed": false,
    "pycharm": {
     "name": "#%%\n"
    }
   }
  },
  {
   "cell_type": "code",
   "execution_count": 11,
   "outputs": [],
   "source": [
    "data_dict = {\n",
    "    subset: raw_dataset[subset].to_pandas()\n",
    "    for subset in [\"train\", \"test\"]\n",
    "}"
   ],
   "metadata": {
    "collapsed": false,
    "pycharm": {
     "name": "#%%\n"
    }
   }
  },
  {
   "cell_type": "code",
   "execution_count": 12,
   "outputs": [
    {
     "data": {
      "text/plain": "                                              tokens  \\\n0             [RoboRally, czy, Wysokie, napięcie, ?]   \n1  [Ponieważ, nie, mamy, ostatnio, czasu, grać, w...   \n2  [Zawsze, jest, to, jakaś, dodatkowa, motywacja...   \n3  [Roboty, mają, kilkanaście, lat, i, pochodzą, ...   \n4  [Do, robotów, zachęca, demo, ,, w, którym, na,...   \n\n                                              lemmas  \\\n0              [roborally, czy, wysoki, napięcie, ?]   \n1  [ponieważ, nie, mieć, ostatnio, czas, grać, w,...   \n2  [zawsze, być, to, jakiś, dodatkowy, motywacja,...   \n3  [robota, maić, kilkanaście, rok, i, pochodzić,...   \n4  [do, robot, zachęcać, demo, ,, w, który, na, p...   \n\n                                                orth  \\\n0  [subst:sg:nom:n, qub, adj:sg:nom:n:pos, subst:...   \n1  [comp, qub, fin:pl:pri:imperf, adv:pos, subst:...   \n2  [adv, fin:sg:ter:imperf, pred, adj:sg:nom:f:po...   \n3  [subst:pl:nom:f, fin:pl:ter:imperf, num:pl:acc...   \n4  [prep:gen, subst:pl:gen:m3, fin:sg:ter:imperf,...   \n\n                                                 ner  \n0                            [73, 160, 73, 151, 160]  \n1  [160, 160, 160, 160, 160, 160, 160, 160, 160, ...  \n2  [160, 160, 160, 160, 160, 160, 160, 160, 160, ...  \n3  [73, 160, 160, 160, 160, 160, 160, 29, 160, 73...  \n4  [160, 160, 160, 160, 160, 160, 160, 160, 160, ...  ",
      "text/html": "<div>\n<style scoped>\n    .dataframe tbody tr th:only-of-type {\n        vertical-align: middle;\n    }\n\n    .dataframe tbody tr th {\n        vertical-align: top;\n    }\n\n    .dataframe thead th {\n        text-align: right;\n    }\n</style>\n<table border=\"1\" class=\"dataframe\">\n  <thead>\n    <tr style=\"text-align: right;\">\n      <th></th>\n      <th>tokens</th>\n      <th>lemmas</th>\n      <th>orth</th>\n      <th>ner</th>\n    </tr>\n  </thead>\n  <tbody>\n    <tr>\n      <th>0</th>\n      <td>[RoboRally, czy, Wysokie, napięcie, ?]</td>\n      <td>[roborally, czy, wysoki, napięcie, ?]</td>\n      <td>[subst:sg:nom:n, qub, adj:sg:nom:n:pos, subst:...</td>\n      <td>[73, 160, 73, 151, 160]</td>\n    </tr>\n    <tr>\n      <th>1</th>\n      <td>[Ponieważ, nie, mamy, ostatnio, czasu, grać, w...</td>\n      <td>[ponieważ, nie, mieć, ostatnio, czas, grać, w,...</td>\n      <td>[comp, qub, fin:pl:pri:imperf, adv:pos, subst:...</td>\n      <td>[160, 160, 160, 160, 160, 160, 160, 160, 160, ...</td>\n    </tr>\n    <tr>\n      <th>2</th>\n      <td>[Zawsze, jest, to, jakaś, dodatkowa, motywacja...</td>\n      <td>[zawsze, być, to, jakiś, dodatkowy, motywacja,...</td>\n      <td>[adv, fin:sg:ter:imperf, pred, adj:sg:nom:f:po...</td>\n      <td>[160, 160, 160, 160, 160, 160, 160, 160, 160, ...</td>\n    </tr>\n    <tr>\n      <th>3</th>\n      <td>[Roboty, mają, kilkanaście, lat, i, pochodzą, ...</td>\n      <td>[robota, maić, kilkanaście, rok, i, pochodzić,...</td>\n      <td>[subst:pl:nom:f, fin:pl:ter:imperf, num:pl:acc...</td>\n      <td>[73, 160, 160, 160, 160, 160, 160, 29, 160, 73...</td>\n    </tr>\n    <tr>\n      <th>4</th>\n      <td>[Do, robotów, zachęca, demo, ,, w, którym, na,...</td>\n      <td>[do, robot, zachęcać, demo, ,, w, który, na, p...</td>\n      <td>[prep:gen, subst:pl:gen:m3, fin:sg:ter:imperf,...</td>\n      <td>[160, 160, 160, 160, 160, 160, 160, 160, 160, ...</td>\n    </tr>\n  </tbody>\n</table>\n</div>"
     },
     "execution_count": 12,
     "metadata": {},
     "output_type": "execute_result"
    }
   ],
   "source": [
    "data_dict[\"train\"].head()"
   ],
   "metadata": {
    "collapsed": false,
    "pycharm": {
     "name": "#%%\n"
    }
   }
  },
  {
   "cell_type": "code",
   "execution_count": 13,
   "outputs": [],
   "source": [
    "references = data_dict[\"train\"][\"ner\"]\n",
    "references_named = [\n",
    "    [raw_dataset[\"train\"].features[\"ner\"].feature.names[label] for label in labels]\n",
    "    for labels in references\n",
    "]\n",
    "data_dict[\"train\"][\"ner\"] = references_named"
   ],
   "metadata": {
    "collapsed": false,
    "pycharm": {
     "name": "#%%\n"
    }
   }
  },
  {
   "cell_type": "code",
   "execution_count": 15,
   "outputs": [
    {
     "data": {
      "text/plain": "['B-nam_pro_title', 'O', 'B-nam_pro_title', 'I-nam_pro_title', 'O']"
     },
     "execution_count": 15,
     "metadata": {},
     "output_type": "execute_result"
    }
   ],
   "source": [
    "data_dict[\"train\"][\"ner\"][0]\n"
   ],
   "metadata": {
    "collapsed": false,
    "pycharm": {
     "name": "#%%\n"
    }
   }
  },
  {
   "cell_type": "code",
   "execution_count": 28,
   "outputs": [],
   "source": [
    "ner_unzipped = [x for entry in data_dict[\"train\"][\"ner\"].values for x in entry if x != 'O' and not x.startswith('I-')]\n",
    "ner_unzipped = pd.Series(ner_unzipped, name=\"class\")"
   ],
   "metadata": {
    "collapsed": false,
    "pycharm": {
     "name": "#%%\n"
    }
   }
  },
  {
   "cell_type": "code",
   "execution_count": 29,
   "outputs": [
    {
     "data": {
      "text/plain": "B-nam_liv_person              0.219103\nB-nam_loc_gpe_city            0.101009\nB-nam_loc_gpe_country         0.074665\nB-nam_org_institution         0.058934\nB-nam_org_organization        0.044483\n                                ...   \nB-nam_org_organization_sub    0.000602\nB-nam_loc_hydronym            0.000602\nB-nam_loc_hydronym_ocean      0.000452\nB-nam_loc_hydronym_sea        0.000452\nB-nam_fac_goe_stop            0.000376\nName: class, Length: 82, dtype: float64"
     },
     "execution_count": 29,
     "metadata": {},
     "output_type": "execute_result"
    }
   ],
   "source": [
    "ner_unzipped.value_counts(normalize=True)"
   ],
   "metadata": {
    "collapsed": false,
    "pycharm": {
     "name": "#%%\n"
    }
   }
  },
  {
   "cell_type": "code",
   "execution_count": 30,
   "outputs": [
    {
     "data": {
      "text/plain": "                                                  tokens  \\\n0                 [RoboRally, czy, Wysokie, napięcie, ?]   \n1      [Ponieważ, nie, mamy, ostatnio, czasu, grać, w...   \n2      [Zawsze, jest, to, jakaś, dodatkowa, motywacja...   \n3      [Roboty, mają, kilkanaście, lat, i, pochodzą, ...   \n4      [Do, robotów, zachęca, demo, ,, w, którym, na,...   \n...                                                  ...   \n13954  [Komitet, Konwencji, z, Berna, o, Ochronie, Dz...   \n13955                                            [TRIPS]   \n13956  [WIPO, ściśle, współpracuje, ze, Światową, Org...   \n13957  [Owocem, tej, współpracy, jest, np, ., porozum...   \n13958  [Porozumienie, to, reguluje, wszystkie, obszar...   \n\n                                                  lemmas  \\\n0                  [roborally, czy, wysoki, napięcie, ?]   \n1      [ponieważ, nie, mieć, ostatnio, czas, grać, w,...   \n2      [zawsze, być, to, jakiś, dodatkowy, motywacja,...   \n3      [robota, maić, kilkanaście, rok, i, pochodzić,...   \n4      [do, robot, zachęcać, demo, ,, w, który, na, p...   \n...                                                  ...   \n13954  [komitet, konwencja, z, Berno, o, ochrona, dzi...   \n13955                                            [trips]   \n13956  [wipo, ściśle, współpracować, z, światowy, org...   \n13957  [owoc, ten, współpraca, być, na przykład, ., p...   \n13958  [porozumienie, to, regulować, wszystek, obszar...   \n\n                                                    orth  \\\n0      [subst:sg:nom:n, qub, adj:sg:nom:n:pos, subst:...   \n1      [comp, qub, fin:pl:pri:imperf, adv:pos, subst:...   \n2      [adv, fin:sg:ter:imperf, pred, adj:sg:nom:f:po...   \n3      [subst:pl:nom:f, fin:pl:ter:imperf, num:pl:acc...   \n4      [prep:gen, subst:pl:gen:m3, fin:sg:ter:imperf,...   \n...                                                  ...   \n13954  [subst:sg:nom:m3, subst:sg:gen:f, prep:gen:nwo...   \n13955                                  [subst:sg:nom:m1]   \n13956  [subst:sg:nom:m1, adv:pos, fin:sg:ter:imperf, ...   \n13957  [subst:sg:inst:m3, adj:sg:gen:f:pos, subst:sg:...   \n13958  [subst:sg:nom:n, subst:sg:nom:n, fin:sg:ter:im...   \n\n                                                     ner  \n0      [B-nam_pro_title, O, B-nam_pro_title, I-nam_pr...  \n1             [O, O, O, O, O, O, O, O, O, O, O, O, O, O]  \n2                         [O, O, O, O, O, O, O, O, O, O]  \n3      [B-nam_pro_title, O, O, O, O, O, O, B-nam_loc_...  \n4      [O, O, O, O, O, O, O, O, O, O, O, O, O, O, O, ...  \n...                                                  ...  \n13954  [B-nam_org_institution, I-nam_org_institution,...  \n13955                           [B-nam_pro_title_treaty]  \n13956  [B-nam_org_institution, O, O, O, B-nam_org_org...  \n13957  [O, O, O, O, O, O, O, B-nam_pro_title_treaty, ...  \n13958  [O, O, O, O, O, O, O, O, O, O, O, O, O, O, O, ...  \n\n[13959 rows x 4 columns]",
      "text/html": "<div>\n<style scoped>\n    .dataframe tbody tr th:only-of-type {\n        vertical-align: middle;\n    }\n\n    .dataframe tbody tr th {\n        vertical-align: top;\n    }\n\n    .dataframe thead th {\n        text-align: right;\n    }\n</style>\n<table border=\"1\" class=\"dataframe\">\n  <thead>\n    <tr style=\"text-align: right;\">\n      <th></th>\n      <th>tokens</th>\n      <th>lemmas</th>\n      <th>orth</th>\n      <th>ner</th>\n    </tr>\n  </thead>\n  <tbody>\n    <tr>\n      <th>0</th>\n      <td>[RoboRally, czy, Wysokie, napięcie, ?]</td>\n      <td>[roborally, czy, wysoki, napięcie, ?]</td>\n      <td>[subst:sg:nom:n, qub, adj:sg:nom:n:pos, subst:...</td>\n      <td>[B-nam_pro_title, O, B-nam_pro_title, I-nam_pr...</td>\n    </tr>\n    <tr>\n      <th>1</th>\n      <td>[Ponieważ, nie, mamy, ostatnio, czasu, grać, w...</td>\n      <td>[ponieważ, nie, mieć, ostatnio, czas, grać, w,...</td>\n      <td>[comp, qub, fin:pl:pri:imperf, adv:pos, subst:...</td>\n      <td>[O, O, O, O, O, O, O, O, O, O, O, O, O, O]</td>\n    </tr>\n    <tr>\n      <th>2</th>\n      <td>[Zawsze, jest, to, jakaś, dodatkowa, motywacja...</td>\n      <td>[zawsze, być, to, jakiś, dodatkowy, motywacja,...</td>\n      <td>[adv, fin:sg:ter:imperf, pred, adj:sg:nom:f:po...</td>\n      <td>[O, O, O, O, O, O, O, O, O, O]</td>\n    </tr>\n    <tr>\n      <th>3</th>\n      <td>[Roboty, mają, kilkanaście, lat, i, pochodzą, ...</td>\n      <td>[robota, maić, kilkanaście, rok, i, pochodzić,...</td>\n      <td>[subst:pl:nom:f, fin:pl:ter:imperf, num:pl:acc...</td>\n      <td>[B-nam_pro_title, O, O, O, O, O, O, B-nam_loc_...</td>\n    </tr>\n    <tr>\n      <th>4</th>\n      <td>[Do, robotów, zachęca, demo, ,, w, którym, na,...</td>\n      <td>[do, robot, zachęcać, demo, ,, w, który, na, p...</td>\n      <td>[prep:gen, subst:pl:gen:m3, fin:sg:ter:imperf,...</td>\n      <td>[O, O, O, O, O, O, O, O, O, O, O, O, O, O, O, ...</td>\n    </tr>\n    <tr>\n      <th>...</th>\n      <td>...</td>\n      <td>...</td>\n      <td>...</td>\n      <td>...</td>\n    </tr>\n    <tr>\n      <th>13954</th>\n      <td>[Komitet, Konwencji, z, Berna, o, Ochronie, Dz...</td>\n      <td>[komitet, konwencja, z, Berno, o, ochrona, dzi...</td>\n      <td>[subst:sg:nom:m3, subst:sg:gen:f, prep:gen:nwo...</td>\n      <td>[B-nam_org_institution, I-nam_org_institution,...</td>\n    </tr>\n    <tr>\n      <th>13955</th>\n      <td>[TRIPS]</td>\n      <td>[trips]</td>\n      <td>[subst:sg:nom:m1]</td>\n      <td>[B-nam_pro_title_treaty]</td>\n    </tr>\n    <tr>\n      <th>13956</th>\n      <td>[WIPO, ściśle, współpracuje, ze, Światową, Org...</td>\n      <td>[wipo, ściśle, współpracować, z, światowy, org...</td>\n      <td>[subst:sg:nom:m1, adv:pos, fin:sg:ter:imperf, ...</td>\n      <td>[B-nam_org_institution, O, O, O, B-nam_org_org...</td>\n    </tr>\n    <tr>\n      <th>13957</th>\n      <td>[Owocem, tej, współpracy, jest, np, ., porozum...</td>\n      <td>[owoc, ten, współpraca, być, na przykład, ., p...</td>\n      <td>[subst:sg:inst:m3, adj:sg:gen:f:pos, subst:sg:...</td>\n      <td>[O, O, O, O, O, O, O, B-nam_pro_title_treaty, ...</td>\n    </tr>\n    <tr>\n      <th>13958</th>\n      <td>[Porozumienie, to, reguluje, wszystkie, obszar...</td>\n      <td>[porozumienie, to, regulować, wszystek, obszar...</td>\n      <td>[subst:sg:nom:n, subst:sg:nom:n, fin:sg:ter:im...</td>\n      <td>[O, O, O, O, O, O, O, O, O, O, O, O, O, O, O, ...</td>\n    </tr>\n  </tbody>\n</table>\n<p>13959 rows × 4 columns</p>\n</div>"
     },
     "execution_count": 30,
     "metadata": {},
     "output_type": "execute_result"
    }
   ],
   "source": [
    "data_dict[\"train\"]"
   ],
   "metadata": {
    "collapsed": false,
    "pycharm": {
     "name": "#%%\n"
    }
   }
  },
  {
   "cell_type": "code",
   "execution_count": null,
   "outputs": [],
   "source": [],
   "metadata": {
    "collapsed": false,
    "pycharm": {
     "name": "#%%\n"
    }
   }
  }
 ],
 "metadata": {
  "kernelspec": {
   "display_name": "Python 3",
   "language": "python",
   "name": "python3"
  },
  "language_info": {
   "codemirror_mode": {
    "name": "ipython",
    "version": 2
   },
   "file_extension": ".py",
   "mimetype": "text/x-python",
   "name": "python",
   "nbconvert_exporter": "python",
   "pygments_lexer": "ipython2",
   "version": "2.7.6"
  }
 },
 "nbformat": 4,
 "nbformat_minor": 0
}