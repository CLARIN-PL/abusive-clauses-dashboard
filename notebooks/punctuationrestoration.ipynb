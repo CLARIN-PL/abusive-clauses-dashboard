{
 "cells": [
  {
   "cell_type": "code",
   "execution_count": 2,
   "metadata": {
    "collapsed": true
   },
   "outputs": [],
   "source": [
    "import pandas as pd\n",
    "from datasets import load_dataset"
   ]
  },
  {
   "cell_type": "code",
   "execution_count": 3,
   "outputs": [
    {
     "data": {
      "text/plain": "Downloading builder script:   0%|          | 0.00/4.20k [00:00<?, ?B/s]",
      "application/vnd.jupyter.widget-view+json": {
       "version_major": 2,
       "version_minor": 0,
       "model_id": "a0b1d852617a4aa6aef0515e0e10824f"
      }
     },
     "metadata": {},
     "output_type": "display_data"
    },
    {
     "data": {
      "text/plain": "Downloading metadata:   0%|          | 0.00/2.16k [00:00<?, ?B/s]",
      "application/vnd.jupyter.widget-view+json": {
       "version_major": 2,
       "version_minor": 0,
       "model_id": "559993a8b75c42d295faad96884b9723"
      }
     },
     "metadata": {},
     "output_type": "display_data"
    },
    {
     "name": "stdout",
     "output_type": "stream",
     "text": [
      "Downloading and preparing dataset 2021-punctuation-restoration/punctuation_dataset (download: 2.86 MiB, generated: 6.43 MiB, post-processed: Unknown size, total: 9.29 MiB) to /Users/mariuszkossakowski/.cache/huggingface/datasets/clarin-pl___2021-punctuation-restoration/punctuation_dataset/1.0.0/1a48c4b6b6031d30a2a4831eb6f9588247be7349a3da48d7bf0af0ca794056a7...\n"
     ]
    },
    {
     "data": {
      "text/plain": "Downloading data files:   0%|          | 0/2 [00:00<?, ?it/s]",
      "application/vnd.jupyter.widget-view+json": {
       "version_major": 2,
       "version_minor": 0,
       "model_id": "a82bbe5e87bd46ba8e72f93f99511a9e"
      }
     },
     "metadata": {},
     "output_type": "display_data"
    },
    {
     "data": {
      "text/plain": "Downloading data:   0%|          | 0.00/469k [00:00<?, ?B/s]",
      "application/vnd.jupyter.widget-view+json": {
       "version_major": 2,
       "version_minor": 0,
       "model_id": "ad1ada6e34e0440a91f86f2ee372c349"
      }
     },
     "metadata": {},
     "output_type": "display_data"
    },
    {
     "data": {
      "text/plain": "Downloading data:   0%|          | 0.00/484k [00:00<?, ?B/s]",
      "application/vnd.jupyter.widget-view+json": {
       "version_major": 2,
       "version_minor": 0,
       "model_id": "a09f70938a424935904ff486f6cfce2a"
      }
     },
     "metadata": {},
     "output_type": "display_data"
    },
    {
     "data": {
      "text/plain": "Downloading data files:   0%|          | 0/2 [00:00<?, ?it/s]",
      "application/vnd.jupyter.widget-view+json": {
       "version_major": 2,
       "version_minor": 0,
       "model_id": "d4617c5ed4eb4df7bd964a345a98cf95"
      }
     },
     "metadata": {},
     "output_type": "display_data"
    },
    {
     "data": {
      "text/plain": "Downloading data:   0%|          | 0.00/119k [00:00<?, ?B/s]",
      "application/vnd.jupyter.widget-view+json": {
       "version_major": 2,
       "version_minor": 0,
       "model_id": "794d4505a7734982aae7f41c82744612"
      }
     },
     "metadata": {},
     "output_type": "display_data"
    },
    {
     "data": {
      "text/plain": "Downloading data:   0%|          | 0.00/122k [00:00<?, ?B/s]",
      "application/vnd.jupyter.widget-view+json": {
       "version_major": 2,
       "version_minor": 0,
       "model_id": "2b01a195e4d64c709e73a0c32f5ecdd3"
      }
     },
     "metadata": {},
     "output_type": "display_data"
    },
    {
     "name": "stdout",
     "output_type": "stream",
     "text": [
      "{'train': ['/Users/mariuszkossakowski/.cache/huggingface/datasets/downloads/bee63a862235123b5b4bde33afb0cbc357fbdc219c3cec4040267b26f6377a04', '/Users/mariuszkossakowski/.cache/huggingface/datasets/downloads/3be493e3f62d3f7212fdffaf7da44fb38361857d37e8113400ef0835ab159458'], 'test-A': ['/Users/mariuszkossakowski/.cache/huggingface/datasets/downloads/155cbcdc8a1d0f697eb942d3134195a572b984720f622fa503b8860aad6c4594', '/Users/mariuszkossakowski/.cache/huggingface/datasets/downloads/15f2d25a90e0b25cc22d3306c4c6aa1b34735facf5acdad65cdbf6355770e7e6']}\n"
     ]
    },
    {
     "data": {
      "text/plain": "Generating train split:   0%|          | 0/800 [00:00<?, ? examples/s]",
      "application/vnd.jupyter.widget-view+json": {
       "version_major": 2,
       "version_minor": 0,
       "model_id": "47f7e171901e4b659000c30bb4eda76a"
      }
     },
     "metadata": {},
     "output_type": "display_data"
    },
    {
     "data": {
      "text/plain": "Generating test split:   0%|          | 0/200 [00:00<?, ? examples/s]",
      "application/vnd.jupyter.widget-view+json": {
       "version_major": 2,
       "version_minor": 0,
       "model_id": "6a0495a202574d01969e3696e66d852c"
      }
     },
     "metadata": {},
     "output_type": "display_data"
    },
    {
     "name": "stdout",
     "output_type": "stream",
     "text": [
      "Dataset 2021-punctuation-restoration downloaded and prepared to /Users/mariuszkossakowski/.cache/huggingface/datasets/clarin-pl___2021-punctuation-restoration/punctuation_dataset/1.0.0/1a48c4b6b6031d30a2a4831eb6f9588247be7349a3da48d7bf0af0ca794056a7. Subsequent calls will reuse this data.\n"
     ]
    },
    {
     "data": {
      "text/plain": "  0%|          | 0/2 [00:00<?, ?it/s]",
      "application/vnd.jupyter.widget-view+json": {
       "version_major": 2,
       "version_minor": 0,
       "model_id": "1add7c0b8a0a4d31bbd3c1c42b03fa52"
      }
     },
     "metadata": {},
     "output_type": "display_data"
    }
   ],
   "source": [
    "raw_dataset = load_dataset(\"clarin-pl/2021-punctuation-restoration\")"
   ],
   "metadata": {
    "collapsed": false,
    "pycharm": {
     "name": "#%%\n"
    }
   }
  },
  {
   "cell_type": "code",
   "execution_count": 5,
   "outputs": [],
   "source": [
    "subsets = [\"train\", \"test\"]"
   ],
   "metadata": {
    "collapsed": false,
    "pycharm": {
     "name": "#%%\n"
    }
   }
  },
  {
   "cell_type": "code",
   "execution_count": 6,
   "outputs": [],
   "source": [
    "data_dict = {\n",
    "    subset: raw_dataset[subset].to_pandas()\n",
    "    for subset in subsets\n",
    "}"
   ],
   "metadata": {
    "collapsed": false,
    "pycharm": {
     "name": "#%%\n"
    }
   }
  },
  {
   "cell_type": "code",
   "execution_count": 7,
   "outputs": [
    {
     "data": {
      "text/plain": "                                             text_in  \\\n0  w wywiadzie dla \" polski \" jarosław kaczyński ...   \n1  dowody prokuratury przedstawiające że janusz k...   \n2  w czasie długiego weekendu 1 3 maja 2009 w jad...   \n3  drugie zwycięstwo w tegorocznym giro d'italia ...   \n4  takiego mrozu nie było w polsce od dawna słupk...   \n5  ceny biletów na ceremonię otwarcia i zamknięci...   \n6  coraz częściej jesteśmy świadkami interwencji ...   \n7  w pawłokomie koło dynowa odbyły się uroczystoś...   \n8  minister zdrowia zbigniew religa jest przeciwn...   \n9  w opinii rosyjskiej gazety \" niezawisimaja gaz...   \n\n                                            text_out  \\\n0  w wywiadzie dla \" polski \" jarosław kaczyński ...   \n1  dowody prokuratury przedstawiające, że janusz ...   \n2  w czasie długiego weekendu, 1- 3 maja 2009 w j...   \n3  drugie zwycięstwo w tegorocznym giro d'italia ...   \n4  takiego mrozu nie było w polsce od dawna. słup...   \n5  ceny biletów na ceremonię otwarcia i zamknięci...   \n6  coraz częściej jesteśmy świadkami interwencji ...   \n7  w pawłokomie koło dynowa, odbyły się uroczysto...   \n8  minister zdrowia zbigniew religa jest przeciwn...   \n9  w opinii rosyjskiej gazety \" niezawisimaja gaz...   \n\n                                              tokens  \\\n0  [w, wywiadzie, dla, \", polski, \", jarosław, ka...   \n1  [dowody, prokuratury, przedstawiające, że, jan...   \n2  [w, czasie, długiego, weekendu, 1, 3, maja, 20...   \n3  [drugie, zwycięstwo, w, tegorocznym, giro, d'i...   \n4  [takiego, mrozu, nie, było, w, polsce, od, daw...   \n5  [ceny, biletów, na, ceremonię, otwarcia, i, za...   \n6  [coraz, częściej, jesteśmy, świadkami, interwe...   \n7  [w, pawłokomie, koło, dynowa, odbyły, się, uro...   \n8  [minister, zdrowia, zbigniew, religa, jest, pr...   \n9  [w, opinii, rosyjskiej, gazety, \", niezawisima...   \n\n                                                tags  \n0  [7, 7, 7, 7, 7, 7, 7, 7, 1, 7, 7, 7, 7, 7, 7, ...  \n1  [7, 7, 1, 7, 7, 1, 7, 7, 1, 1, 7, 7, 7, 7, 7, ...  \n2  [7, 7, 7, 1, 2, 7, 7, 7, 7, 7, 7, 7, 7, 7, 7, ...  \n3  [7, 7, 7, 7, 7, 7, 7, 7, 7, 7, 7, 7, 1, 7, 7, ...  \n4  [7, 7, 7, 7, 7, 7, 7, 0, 7, 7, 7, 7, 7, 7, 7, ...  \n5  [7, 7, 7, 7, 7, 7, 7, 7, 7, 7, 7, 7, 7, 7, 7, ...  \n6  [7, 7, 7, 7, 7, 7, 7, 7, 7, 7, 7, 0, 7, 7, 7, ...  \n7  [7, 7, 7, 1, 7, 7, 7, 7, 7, 7, 7, 7, 7, 7, 7, ...  \n8  [7, 7, 7, 7, 7, 7, 7, 7, 7, 7, 0, 7, 0, 7, 7, ...  \n9  [7, 7, 7, 7, 7, 7, 7, 1, 7, 7, 7, 7, 7, 7, 7, ...  ",
      "text/html": "<div>\n<style scoped>\n    .dataframe tbody tr th:only-of-type {\n        vertical-align: middle;\n    }\n\n    .dataframe tbody tr th {\n        vertical-align: top;\n    }\n\n    .dataframe thead th {\n        text-align: right;\n    }\n</style>\n<table border=\"1\" class=\"dataframe\">\n  <thead>\n    <tr style=\"text-align: right;\">\n      <th></th>\n      <th>text_in</th>\n      <th>text_out</th>\n      <th>tokens</th>\n      <th>tags</th>\n    </tr>\n  </thead>\n  <tbody>\n    <tr>\n      <th>0</th>\n      <td>w wywiadzie dla \" polski \" jarosław kaczyński ...</td>\n      <td>w wywiadzie dla \" polski \" jarosław kaczyński ...</td>\n      <td>[w, wywiadzie, dla, \", polski, \", jarosław, ka...</td>\n      <td>[7, 7, 7, 7, 7, 7, 7, 7, 1, 7, 7, 7, 7, 7, 7, ...</td>\n    </tr>\n    <tr>\n      <th>1</th>\n      <td>dowody prokuratury przedstawiające że janusz k...</td>\n      <td>dowody prokuratury przedstawiające, że janusz ...</td>\n      <td>[dowody, prokuratury, przedstawiające, że, jan...</td>\n      <td>[7, 7, 1, 7, 7, 1, 7, 7, 1, 1, 7, 7, 7, 7, 7, ...</td>\n    </tr>\n    <tr>\n      <th>2</th>\n      <td>w czasie długiego weekendu 1 3 maja 2009 w jad...</td>\n      <td>w czasie długiego weekendu, 1- 3 maja 2009 w j...</td>\n      <td>[w, czasie, długiego, weekendu, 1, 3, maja, 20...</td>\n      <td>[7, 7, 7, 1, 2, 7, 7, 7, 7, 7, 7, 7, 7, 7, 7, ...</td>\n    </tr>\n    <tr>\n      <th>3</th>\n      <td>drugie zwycięstwo w tegorocznym giro d'italia ...</td>\n      <td>drugie zwycięstwo w tegorocznym giro d'italia ...</td>\n      <td>[drugie, zwycięstwo, w, tegorocznym, giro, d'i...</td>\n      <td>[7, 7, 7, 7, 7, 7, 7, 7, 7, 7, 7, 7, 1, 7, 7, ...</td>\n    </tr>\n    <tr>\n      <th>4</th>\n      <td>takiego mrozu nie było w polsce od dawna słupk...</td>\n      <td>takiego mrozu nie było w polsce od dawna. słup...</td>\n      <td>[takiego, mrozu, nie, było, w, polsce, od, daw...</td>\n      <td>[7, 7, 7, 7, 7, 7, 7, 0, 7, 7, 7, 7, 7, 7, 7, ...</td>\n    </tr>\n    <tr>\n      <th>5</th>\n      <td>ceny biletów na ceremonię otwarcia i zamknięci...</td>\n      <td>ceny biletów na ceremonię otwarcia i zamknięci...</td>\n      <td>[ceny, biletów, na, ceremonię, otwarcia, i, za...</td>\n      <td>[7, 7, 7, 7, 7, 7, 7, 7, 7, 7, 7, 7, 7, 7, 7, ...</td>\n    </tr>\n    <tr>\n      <th>6</th>\n      <td>coraz częściej jesteśmy świadkami interwencji ...</td>\n      <td>coraz częściej jesteśmy świadkami interwencji ...</td>\n      <td>[coraz, częściej, jesteśmy, świadkami, interwe...</td>\n      <td>[7, 7, 7, 7, 7, 7, 7, 7, 7, 7, 7, 0, 7, 7, 7, ...</td>\n    </tr>\n    <tr>\n      <th>7</th>\n      <td>w pawłokomie koło dynowa odbyły się uroczystoś...</td>\n      <td>w pawłokomie koło dynowa, odbyły się uroczysto...</td>\n      <td>[w, pawłokomie, koło, dynowa, odbyły, się, uro...</td>\n      <td>[7, 7, 7, 1, 7, 7, 7, 7, 7, 7, 7, 7, 7, 7, 7, ...</td>\n    </tr>\n    <tr>\n      <th>8</th>\n      <td>minister zdrowia zbigniew religa jest przeciwn...</td>\n      <td>minister zdrowia zbigniew religa jest przeciwn...</td>\n      <td>[minister, zdrowia, zbigniew, religa, jest, pr...</td>\n      <td>[7, 7, 7, 7, 7, 7, 7, 7, 7, 7, 0, 7, 0, 7, 7, ...</td>\n    </tr>\n    <tr>\n      <th>9</th>\n      <td>w opinii rosyjskiej gazety \" niezawisimaja gaz...</td>\n      <td>w opinii rosyjskiej gazety \" niezawisimaja gaz...</td>\n      <td>[w, opinii, rosyjskiej, gazety, \", niezawisima...</td>\n      <td>[7, 7, 7, 7, 7, 7, 7, 1, 7, 7, 7, 7, 7, 7, 7, ...</td>\n    </tr>\n  </tbody>\n</table>\n</div>"
     },
     "execution_count": 7,
     "metadata": {},
     "output_type": "execute_result"
    }
   ],
   "source": [
    "data_dict[\"train\"].head(10)"
   ],
   "metadata": {
    "collapsed": false,
    "pycharm": {
     "name": "#%%\n"
    }
   }
  },
  {
   "cell_type": "code",
   "execution_count": 9,
   "outputs": [
    {
     "data": {
      "text/plain": "'B-;'"
     },
     "execution_count": 9,
     "metadata": {},
     "output_type": "execute_result"
    }
   ],
   "source": [
    "raw_dataset[\"train\"].features[\"tags\"].feature.names[6]"
   ],
   "metadata": {
    "collapsed": false,
    "pycharm": {
     "name": "#%%\n"
    }
   }
  },
  {
   "cell_type": "code",
   "execution_count": null,
   "outputs": [],
   "source": [],
   "metadata": {
    "collapsed": false,
    "pycharm": {
     "name": "#%%\n"
    }
   }
  }
 ],
 "metadata": {
  "kernelspec": {
   "display_name": "Python 3",
   "language": "python",
   "name": "python3"
  },
  "language_info": {
   "codemirror_mode": {
    "name": "ipython",
    "version": 2
   },
   "file_extension": ".py",
   "mimetype": "text/x-python",
   "name": "python",
   "nbconvert_exporter": "python",
   "pygments_lexer": "ipython2",
   "version": "2.7.6"
  }
 },
 "nbformat": 4,
 "nbformat_minor": 0
}