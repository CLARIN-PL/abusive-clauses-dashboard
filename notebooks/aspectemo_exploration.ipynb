{
 "cells": [
  {
   "cell_type": "code",
   "execution_count": 1,
   "metadata": {
    "collapsed": true
   },
   "outputs": [],
   "source": [
    "import pandas as pd\n",
    "from datasets import load_dataset"
   ]
  },
  {
   "cell_type": "code",
   "execution_count": 2,
   "outputs": [
    {
     "name": "stderr",
     "output_type": "stream",
     "text": [
      "No config specified, defaulting to: aspectemo/1.0\n",
      "Reusing dataset aspectemo (/Users/mariuszkossakowski/.cache/huggingface/datasets/clarin-pl___aspectemo/1.0/1.0.0/968ba95943dbf225ce5847233e07ecab3eb9b26791d66cb7ef72a5179503c625)\n"
     ]
    },
    {
     "data": {
      "text/plain": "  0%|          | 0/2 [00:00<?, ?it/s]",
      "application/vnd.jupyter.widget-view+json": {
       "version_major": 2,
       "version_minor": 0,
       "model_id": "6868c42091dd47b0a900a602370e3dee"
      }
     },
     "metadata": {},
     "output_type": "display_data"
    }
   ],
   "source": [
    "dataset = load_dataset(\"clarin-pl/aspectemo\")"
   ],
   "metadata": {
    "collapsed": false,
    "pycharm": {
     "name": "#%%\n"
    }
   }
  },
  {
   "cell_type": "code",
   "execution_count": 3,
   "outputs": [],
   "source": [
    "data_dict = {\n",
    "    \"train\": dataset[\"train\"].to_pandas(),\n",
    "    \"test\": dataset[\"test\"].to_pandas(),\n",
    "}"
   ],
   "metadata": {
    "collapsed": false,
    "pycharm": {
     "name": "#%%\n"
    }
   }
  },
  {
   "cell_type": "code",
   "execution_count": 4,
   "outputs": [],
   "source": [
    "full_dataframe = pd.concat(data_dict.values(), axis=\"rows\")"
   ],
   "metadata": {
    "collapsed": false,
    "pycharm": {
     "name": "#%%\n"
    }
   }
  },
  {
   "cell_type": "code",
   "execution_count": 4,
   "outputs": [
    {
     "data": {
      "text/plain": "                                              tokens  \\\n0  [Wykłady, strasznie, nudne, ,, totalna, porażk...   \n1  [Ogólnie, bardzo, pozytywny, choc, troche, zak...   \n2  [Pan, Krzysztof, to, ogólnie, bardzo, pozytywn...   \n3  [Wiesław, Dudek, Analiza, Matematyczna, I, Alg...   \n4  [Jankowska, Elżbieta, ,, dr, inż, ., Fizyka, L...   \n5  [Wykłady, prowadzone, dośc, monotonnie, ,, spr...   \n6  [Radzio, A, ., Filozofie, i, religie, Orientu,...   \n7  [Scharoch, Paweł, ,, Dr, General, Physics, I, ...   \n8  [Borkowska, Angnieszka, Informatyka, II, Ocena...   \n9  [Gańcza, Szermierka, Moze, być, /, Polecam, [,...   \n\n                                              labels  \n0  [1, 0, 0, 0, 0, 0, 0, 0, 0, 0, 0, 0, 0, 0, 0, ...  \n1  [0, 0, 0, 0, 0, 0, 4, 0, 0, 0, 1, 0, 0, 0, 0, ...  \n2  [5, 0, 0, 0, 0, 0, 0, 0, 0, 0, 6, 0, 0, 0, 0, ...  \n3  [3, 0, 3, 0, 0, 0, 0, 0, 6, 0, 0, 0, 0, 0, 0, ...  \n4  [3, 0, 0, 0, 0, 0, 2, 0, 0, 0, 0, 0, 0, 0, 0, ...  \n5  [2, 0, 0, 0, 0, 1, 0, 0, 0, 0, 0, 0, 0, 3, 0, ...  \n6  [3, 0, 0, 5, 0, 0, 0, 0, 0, 0, 0, 0, 0, 0, 0, ...  \n7  [3, 0, 0, 0, 5, 0, 0, 0, 0, 0, 0, 0, 0, 0, 0, ...  \n8  [3, 0, 5, 0, 0, 0, 0, 0, 0, 0, 0, 0, 0, 0, 0, ...  \n9  [3, 4, 0, 0, 0, 0, 0, 0, 0, 0, 4, 0, 0, 0, 0, ...  ",
      "text/html": "<div>\n<style scoped>\n    .dataframe tbody tr th:only-of-type {\n        vertical-align: middle;\n    }\n\n    .dataframe tbody tr th {\n        vertical-align: top;\n    }\n\n    .dataframe thead th {\n        text-align: right;\n    }\n</style>\n<table border=\"1\" class=\"dataframe\">\n  <thead>\n    <tr style=\"text-align: right;\">\n      <th></th>\n      <th>tokens</th>\n      <th>labels</th>\n    </tr>\n  </thead>\n  <tbody>\n    <tr>\n      <th>0</th>\n      <td>[Wykłady, strasznie, nudne, ,, totalna, porażk...</td>\n      <td>[1, 0, 0, 0, 0, 0, 0, 0, 0, 0, 0, 0, 0, 0, 0, ...</td>\n    </tr>\n    <tr>\n      <th>1</th>\n      <td>[Ogólnie, bardzo, pozytywny, choc, troche, zak...</td>\n      <td>[0, 0, 0, 0, 0, 0, 4, 0, 0, 0, 1, 0, 0, 0, 0, ...</td>\n    </tr>\n    <tr>\n      <th>2</th>\n      <td>[Pan, Krzysztof, to, ogólnie, bardzo, pozytywn...</td>\n      <td>[5, 0, 0, 0, 0, 0, 0, 0, 0, 0, 6, 0, 0, 0, 0, ...</td>\n    </tr>\n    <tr>\n      <th>3</th>\n      <td>[Wiesław, Dudek, Analiza, Matematyczna, I, Alg...</td>\n      <td>[3, 0, 3, 0, 0, 0, 0, 0, 6, 0, 0, 0, 0, 0, 0, ...</td>\n    </tr>\n    <tr>\n      <th>4</th>\n      <td>[Jankowska, Elżbieta, ,, dr, inż, ., Fizyka, L...</td>\n      <td>[3, 0, 0, 0, 0, 0, 2, 0, 0, 0, 0, 0, 0, 0, 0, ...</td>\n    </tr>\n    <tr>\n      <th>5</th>\n      <td>[Wykłady, prowadzone, dośc, monotonnie, ,, spr...</td>\n      <td>[2, 0, 0, 0, 0, 1, 0, 0, 0, 0, 0, 0, 0, 3, 0, ...</td>\n    </tr>\n    <tr>\n      <th>6</th>\n      <td>[Radzio, A, ., Filozofie, i, religie, Orientu,...</td>\n      <td>[3, 0, 0, 5, 0, 0, 0, 0, 0, 0, 0, 0, 0, 0, 0, ...</td>\n    </tr>\n    <tr>\n      <th>7</th>\n      <td>[Scharoch, Paweł, ,, Dr, General, Physics, I, ...</td>\n      <td>[3, 0, 0, 0, 5, 0, 0, 0, 0, 0, 0, 0, 0, 0, 0, ...</td>\n    </tr>\n    <tr>\n      <th>8</th>\n      <td>[Borkowska, Angnieszka, Informatyka, II, Ocena...</td>\n      <td>[3, 0, 5, 0, 0, 0, 0, 0, 0, 0, 0, 0, 0, 0, 0, ...</td>\n    </tr>\n    <tr>\n      <th>9</th>\n      <td>[Gańcza, Szermierka, Moze, być, /, Polecam, [,...</td>\n      <td>[3, 4, 0, 0, 0, 0, 0, 0, 0, 0, 4, 0, 0, 0, 0, ...</td>\n    </tr>\n  </tbody>\n</table>\n</div>"
     },
     "execution_count": 4,
     "metadata": {},
     "output_type": "execute_result"
    }
   ],
   "source": [
    "data_dict[\"train\"].head(10)"
   ],
   "metadata": {
    "collapsed": false,
    "pycharm": {
     "name": "#%%\n"
    }
   }
  },
  {
   "cell_type": "code",
   "execution_count": 10,
   "outputs": [],
   "source": [
    "all_labels = data_dict[\"train\"][\"labels\"].tolist()\n",
    "all_labels = [x for subarray in all_labels for x in subarray]\n",
    "all_labels = pd.Series(all_labels)"
   ],
   "metadata": {
    "collapsed": false,
    "pycharm": {
     "name": "#%%\n"
    }
   }
  },
  {
   "cell_type": "code",
   "execution_count": 19,
   "outputs": [],
   "source": [
    "class_distribution = all_labels.value_counts(normalize=True).sort_index()"
   ],
   "metadata": {
    "collapsed": false,
    "pycharm": {
     "name": "#%%\n"
    }
   }
  },
  {
   "cell_type": "code",
   "execution_count": 20,
   "outputs": [
    {
     "data": {
      "text/plain": "   class         0\n0      0  0.879809\n1      1  0.036641\n2      2  0.004506\n3      3  0.028115\n4      4  0.004492\n5      5  0.043147\n6      6  0.003289",
      "text/html": "<div>\n<style scoped>\n    .dataframe tbody tr th:only-of-type {\n        vertical-align: middle;\n    }\n\n    .dataframe tbody tr th {\n        vertical-align: top;\n    }\n\n    .dataframe thead th {\n        text-align: right;\n    }\n</style>\n<table border=\"1\" class=\"dataframe\">\n  <thead>\n    <tr style=\"text-align: right;\">\n      <th></th>\n      <th>class</th>\n      <th>0</th>\n    </tr>\n  </thead>\n  <tbody>\n    <tr>\n      <th>0</th>\n      <td>0</td>\n      <td>0.879809</td>\n    </tr>\n    <tr>\n      <th>1</th>\n      <td>1</td>\n      <td>0.036641</td>\n    </tr>\n    <tr>\n      <th>2</th>\n      <td>2</td>\n      <td>0.004506</td>\n    </tr>\n    <tr>\n      <th>3</th>\n      <td>3</td>\n      <td>0.028115</td>\n    </tr>\n    <tr>\n      <th>4</th>\n      <td>4</td>\n      <td>0.004492</td>\n    </tr>\n    <tr>\n      <th>5</th>\n      <td>5</td>\n      <td>0.043147</td>\n    </tr>\n    <tr>\n      <th>6</th>\n      <td>6</td>\n      <td>0.003289</td>\n    </tr>\n  </tbody>\n</table>\n</div>"
     },
     "execution_count": 20,
     "metadata": {},
     "output_type": "execute_result"
    }
   ],
   "source": [
    "class_distribution.reset_index().rename({\"index\": \"class\"}, axis=\"columns\")"
   ],
   "metadata": {
    "collapsed": false,
    "pycharm": {
     "name": "#%%\n"
    }
   }
  },
  {
   "cell_type": "code",
   "execution_count": 5,
   "outputs": [],
   "source": [
    "all_tokens = full_dataframe[\"tokens\"].tolist()\n",
    "all_tokens = [x for subarray in all_tokens for x in subarray]"
   ],
   "metadata": {
    "collapsed": false,
    "pycharm": {
     "name": "#%%\n"
    }
   }
  },
  {
   "cell_type": "code",
   "execution_count": 6,
   "outputs": [
    {
     "data": {
      "text/plain": "['Wykłady',\n 'strasznie',\n 'nudne',\n ',',\n 'totalna',\n 'porażka',\n ',',\n 'nie',\n 'warto',\n 'przyłazic',\n '.',\n 'Jeśli',\n 'jednak',\n 'zdecydujesz',\n 'się',\n 'chodzic',\n 'na',\n 'wykład',\n 'to',\n 'pamiętaj',\n ',',\n 'że',\n 'na',\n 'zajęciach',\n 'trzeba',\n 'byc',\n 'punktualnie',\n ',',\n 'bo',\n 'koleś',\n 'zamyka',\n 'drzwi',\n ';',\n ')',\n 'Koła',\n 'w',\n 'kilku',\n 'salach',\n ',',\n 'na',\n 'każdej',\n 'sali',\n 'pilnuje',\n 'kilka',\n 'osób',\n ',',\n 'ale',\n 'ściagac',\n 'da',\n 'rade',\n '.',\n 'Ogólnie',\n 'bardzo',\n 'pozytywny',\n 'choc',\n 'troche',\n 'zakręcony',\n 'koleś',\n ';',\n ')',\n 'Zawsze',\n 'przychodził',\n 'w',\n 'wygniecionych',\n 'ciuchach',\n ',',\n 'zupelnie',\n 'jakby',\n 'w',\n 'nich',\n 'spał',\n 'po',\n 'całonocnej',\n 'popijawie',\n '.',\n 'Koła',\n 'standardowe',\n '-',\n 'zadania',\n 'jak',\n 'ze',\n 'skryptu',\n ',',\n 'pełen',\n 'luzik',\n '.',\n 'Ogólnie',\n 'polecam',\n ':',\n ')',\n 'Aha',\n '-',\n 'bardzo',\n 'lubi',\n 'udowadniac',\n 'przez',\n 'indukcje',\n ';',\n ')',\n 'Pan',\n 'Krzysztof',\n 'to',\n 'ogólnie',\n 'bardzo',\n 'pozytywna',\n 'postać',\n ',',\n 'na',\n 'ćwiczeniach',\n 'lubi',\n 'się',\n 'pośmiać',\n '(',\n 'ze',\n 'studentów',\n 'i',\n 'nie',\n 'tylko',\n ')',\n '.',\n 'Zajęcia',\n 'prowadzi',\n 'w',\n 'sposób',\n 'ciekawy',\n ',',\n 'potrafi',\n 'przekazywać',\n 'wiedzę',\n '.',\n 'Koła',\n 'zwykle',\n 'do',\n 'najłatwiejszych',\n 'nie',\n 'należą',\n ',',\n 'ale',\n 'jeśli',\n 'człowiek',\n 'się',\n 'troszkę',\n 'postara',\n 'to',\n 'zaliczy',\n 'bez',\n 'problemu',\n '.',\n 'Wiesław',\n 'Dudek',\n 'Analiza',\n 'Matematyczna',\n 'I',\n 'Algebra',\n 'Liniowa',\n 'I',\n 'Wymagający',\n ',',\n 'ale',\n 'spoko',\n '[',\n '/',\n 'b',\n ']',\n 'Prowadzący',\n 'wzbudza',\n 'mieszane',\n 'uczucia',\n 'po',\n 'pierwszym',\n 'kontakcie',\n '.',\n 'Niektórych',\n 'moze',\n 'przerazic',\n '.',\n 'Co',\n 'do',\n 'zajeć',\n '.',\n '.',\n '.',\n 'ma',\n 'specyficzne',\n 'podejscie',\n 'do',\n 'kobiet',\n ',',\n 'wykłada',\n 'naprawde',\n 'zrozumiale',\n ',',\n 'ale',\n 'nie',\n 'radze',\n 'spotkac',\n 'sie',\n 'z',\n 'nim',\n 'na',\n 'egzaminie',\n '.',\n 'Co',\n 'do',\n 'cwiczeń',\n ':',\n 'bierze',\n 'do',\n 'tablicy',\n '(',\n 'dziewczyny',\n 'miejcie',\n 'sie',\n 'na',\n 'baczności',\n ')',\n 'kogo',\n 'popadnie',\n '.',\n 'Nawet',\n 'jesli',\n 'mało',\n 'umiesz',\n ',',\n 'idz',\n 'i',\n 'daj',\n 'sie',\n 'zbłaźnić',\n 'niz',\n 'powiedz',\n '\"',\n 'Jankowska',\n 'Elżbieta',\n ',',\n 'dr',\n 'inż',\n '.',\n 'Fizyka',\n 'Laboratorium',\n 'Unikać',\n ',',\n 'ale',\n 'do',\n 'przejścia',\n '.',\n '[',\n '/',\n 'b',\n ']',\n 'Zaczne',\n 'od',\n 'superlatyw',\n ':',\n 'Dr',\n '.',\n 'Jankowska',\n 'potrafi',\n 'być',\n 'całkiem',\n 'sympatyczna',\n 'i',\n 'dowcipna',\n '.',\n 'Jest',\n 'pasjonatką',\n 'fizyki',\n ',',\n 'choc',\n 'wielu',\n 'powiedziało',\n 'by',\n 'MANIACZKĄ',\n '.',\n 'Dla',\n 'niektórych',\n 'pewnie',\n 'ciekawą',\n 'cecha',\n 'bedzie',\n 'to',\n 'ze',\n 'bardzo',\n 'łatwo',\n 'mozna',\n 'sie',\n 'jej',\n 'podlizac',\n '.',\n 'Lubi',\n 'dupowłazów',\n 'niestety',\n '.',\n 'Po',\n 'tym',\n 'miłym',\n 'akcencie',\n 'czas',\n 'na',\n 'wybranie',\n 'góry',\n 'dziegdziu',\n 'z',\n 'tego',\n 'małego',\n 'słoika',\n '-',\n 'Dr',\n '.',\n 'Jankowska',\n 'potrafi',\n 'spedzić',\n 'sen',\n 'z',\n 'powiek',\n '.',\n 'Dla',\n 'mnie',\n 'Laboratorium',\n 'z',\n 'tą',\n 'kobietą',\n 'było',\n 'najwieksza',\n 'udręką',\n '.',\n 'Wchodząc',\n 'na',\n 'sale',\n 'musisz',\n 'byc',\n 'wyryty',\n 'na',\n 'maxa',\n '.',\n 'Mimo',\n ',',\n 'iz',\n 'nie',\n 'robi',\n 'zbyt',\n 'czesto',\n 'kartkówek',\n 'pyta',\n 'na',\n 'bieżąco',\n '.',\n 'Wymagająca',\n 'jest',\n 'aż',\n 'nadto',\n ',',\n 'zwraca',\n 'sprawozdania',\n 'dość',\n 'czesto',\n '.',\n 'Choc',\n 'trzeba',\n 'powiedziec',\n ',',\n 'ze',\n 'ta',\n 'kobieta',\n 'potrafi',\n 'zmusić',\n 'do',\n 'myslenia',\n ',',\n 'choc',\n 'lepiej',\n 'jej',\n 'wychodzi',\n 'wprowadzanie',\n 'w',\n 'depresje',\n '.',\n 'Ogólnie',\n 'nie',\n 'polecam',\n ',',\n 'jest',\n 'masa',\n 'innych',\n ',',\n 'lepszych',\n 'prowadzących',\n '.',\n 'Wykłady',\n 'prowadzone',\n 'dośc',\n 'monotonnie',\n ',',\n 'sprawiają',\n 'że',\n 'człowiek',\n 'ma',\n 'ochote',\n 'sie',\n 'przespac',\n '.',\n 'Obecnośc',\n 'niby',\n 'sprawdzana',\n '-',\n 'czasem',\n 'puszczał',\n 'ponoc',\n 'liste',\n ',',\n 'ale',\n 'na',\n 'koniec',\n 'nie',\n 'bierze',\n 'tego',\n 'pod',\n 'uwagę',\n '.',\n 'Ocena',\n 'z',\n 'egzaminu',\n '/',\n 'zaliczenia',\n '-',\n 'pytania',\n 'proste',\n ',',\n 'podał',\n 'je',\n 'wcześniej',\n '.',\n 'Kurs',\n 'może',\n 'zaciekawic',\n 'kogos',\n ',',\n 'kto',\n 'interesuje',\n 'się',\n 'filozofią',\n ',',\n 'ale',\n 'moim',\n 'zdaniem',\n 'był',\n 'strasznie',\n 'nudny',\n '.',\n 'Radzio',\n 'A',\n '.',\n 'Filozofie',\n 'i',\n 'religie',\n 'Orientu',\n 'Ocena',\n ':',\n 'Polecam',\n '[',\n '/',\n 'b',\n ']',\n 'Bardzo',\n 'dobry',\n 'prowadzący',\n ',',\n 'fakt',\n 'ze',\n 'monotonne',\n 'wykłady',\n 'zniechęcają',\n ',',\n 'ale',\n 'jesli',\n 'Cie',\n 'to',\n 'interesuje',\n ',',\n 'to',\n 'Radzio',\n 'ma',\n 'naprawde',\n 'wiele',\n 'do',\n 'powiedzienia',\n 'w',\n 'swojej',\n 'dziedzinie',\n '.',\n 'Jest',\n 'koło',\n ',',\n 'dosc',\n 'proste',\n ',',\n 'znaczy',\n 'daje',\n 'tematy',\n 'i',\n 'takie',\n 'tam',\n '.',\n 'Mozna',\n 'sciagać',\n '.',\n 'Radzio',\n 'jest',\n 'dobry',\n 'na',\n 'odbębnienie',\n 'humana',\n '.',\n 'Obecność',\n 'sie',\n 'liczy',\n '!',\n 'Scharoch',\n 'Paweł',\n ',',\n 'Dr',\n 'General',\n 'Physics',\n 'I',\n 'i',\n 'II',\n '(',\n 'Fizyka',\n 'po',\n 'angielsku',\n ')',\n 'Polecam',\n '[',\n '/',\n 'b',\n ']',\n 'Na',\n 'tle',\n 'reszty',\n 'prowadzących',\n 'dr',\n '.',\n 'Scharoch',\n 'wypada',\n 'naprawde',\n 'swietnie',\n '.',\n 'Potrafi',\n 'zaciekawic',\n 'swoim',\n 'wykładem',\n 'mimo',\n ',',\n 'iz',\n 'sa',\n 'o',\n 'bardzo',\n 'późnych',\n 'godzinach',\n '.',\n 'Wykłady',\n 'dostępne',\n 'w',\n 'ksero',\n 'i',\n 'w',\n 'internecie',\n '.',\n 'Liczne',\n 'doświadczenia',\n '.',\n 'Zeby',\n 'zaciekawić',\n 'studentów',\n 'to',\n 'opowie',\n 'dowcip',\n '.',\n 'Bardzo',\n ',',\n 'ale',\n 'to',\n 'bardzo',\n 'sympatyczna',\n 'persona',\n '.',\n 'Otwarty',\n 'dla',\n 'studentów',\n '.',\n 'Zalicznie',\n 'to',\n 'tez',\n 'nie',\n 'jest',\n 'wiekszy',\n 'problem',\n ',',\n 'choc',\n 'na',\n '2',\n 'gim',\n 'semestrze',\n 'fizyki',\n 'duzo',\n 'osób',\n 'miało',\n 'poprawke',\n 'egzaminu',\n '(',\n 'i',\n 'tak',\n 'pyta',\n 'do',\n 'upadłego',\n '-',\n 'az',\n 'zaliczysz',\n ')',\n 'trzeba',\n 'miec',\n '30',\n '%',\n 'z',\n '10',\n 'pytan',\n '.',\n 'Egzamin',\n 'mozna',\n 'pisac',\n 'po',\n 'polsku',\n ',',\n 'ale',\n 'preferowany',\n 'jest',\n 'angielski',\n '.',\n 'Ćwicznia',\n 'sa',\n 'monotonne',\n '(',\n 'kończą',\n 'sie',\n 'o',\n '21',\n 'wiec',\n 'trzeba',\n 'byc',\n 'wyrozumiałym',\n ')',\n '.',\n 'Kolokwium',\n 'zaliczniowe',\n 'z',\n 'ćwiczen',\n 'wyglada',\n 'nastepująco',\n '.',\n 'Dostajesz',\n '3',\n '-',\n '4',\n 'zadania',\n ',',\n 'które',\n 'najczęsciej',\n 'były',\n 'robione',\n 'na',\n 'ćwiczeniach',\n 'i',\n 'musisz',\n 'zrobic',\n '30',\n '%',\n '.',\n 'Ogólnie',\n 'polecam',\n 'z',\n 'całego',\n 'serca',\n '!',\n '!',\n '!',\n 'Borkowska',\n 'Angnieszka',\n 'Informatyka',\n 'II',\n 'Ocena',\n ':',\n 'Polecam',\n '[',\n '/',\n 'b',\n ']',\n 'Co',\n 'tu',\n 'dużo',\n 'mówić',\n ',',\n 'bardzo',\n 'sympatyczna',\n 'młoda',\n 'doktorantka',\n '.',\n 'Niestety',\n 'o',\n 'C',\n '+',\n '+',\n 'to',\n 'raczej',\n 'wiekszego',\n 'pojęcia',\n 'nie',\n 'ma',\n '(',\n 'tak',\n 'samo',\n 'jak',\n 'studenci',\n ')',\n '.',\n 'Laboratorium',\n 'prowadzone',\n 'zgodnie',\n 'z',\n 'planem',\n 'Domaradzkiego',\n '.',\n 'Są',\n '2',\n 'kartówki',\n ',',\n 'choc',\n 'i',\n 'tak',\n 'raczej',\n 'wszyscy',\n 'zaliczają',\n 'te',\n 'zajęcia',\n '.',\n 'Projekty',\n 'sa',\n 'banalne',\n '.',\n 'Niestety',\n 'jesli',\n 'jestes',\n 'ambitny',\n ',',\n 'albo',\n 'znasz',\n 'sie',\n 'na',\n 'C',\n '+',\n '+',\n 'i',\n 'chcesz',\n 'sie',\n 'czegos',\n 'nauczyc',\n 'to',\n 'nie',\n 'zapisuj',\n 'sie',\n '.',\n 'Jesli',\n 'srednio',\n 'umiesz',\n 'i',\n 'chcesz',\n 'z',\n 'usmiechem',\n 'wychodzic',\n 'z',\n 'sali',\n 'to',\n '.',\n 'Gańcza',\n 'Szermierka',\n 'Moze',\n 'być',\n '/',\n 'Polecam',\n '[',\n '/',\n 'b',\n ']',\n 'Pan',\n 'Gańcza',\n 'nie',\n 'jest',\n 'typowym',\n 'trenerem',\n 'co',\n 'wrzeszczy',\n 'na',\n 'studentów',\n ',',\n 'ale',\n 'bardziej',\n 'miłym',\n 'starszym',\n 'panem',\n ',',\n 'choc',\n 'jego',\n 'kondycja',\n 'pozostanie',\n 'obiektem',\n 'niedoścignionym',\n 'dla',\n 'wielu',\n '.',\n 'Rozgrzewka',\n 'bardzo',\n 'wyczerpująca',\n ',',\n 'ale',\n 'sa',\n 'elementy',\n 'jogi',\n '.',\n 'Ostre',\n 'rozciąganie',\n '.',\n 'Szermierka',\n 'to',\n 'bardzo',\n 'ciekawy',\n 'sport',\n ',',\n 'a',\n 'Pan',\n 'Gańcza',\n 'potrafi',\n 'go',\n 'nauczyc',\n '.',\n 'Ocena',\n 'za',\n 'obecności',\n '.',\n 'Beench',\n '-',\n 'Marchwicka',\n 'G',\n '.',\n 'Przyrządy',\n 'półprzewodnikowe',\n 'I',\n '(',\n 'laboratorium',\n ')',\n 'Ocena',\n ':',\n 'Może',\n 'być',\n '[',\n '/',\n 'b',\n ']',\n 'W',\n 'sumie',\n 'nie',\n 'najgorsza',\n ',',\n 'choć',\n 'kartkówki',\n 'sa',\n 'dośc',\n 'niestandardowe',\n ',',\n 'wymagają',\n 'wiecej',\n 'myślenia',\n '.',\n 'Raczej',\n 'nikogo',\n 'nie',\n 'chce',\n 'wysyłać',\n 'na',\n 'odróbke',\n 'bez',\n 'powodu',\n '.',\n 'Jest',\n 'wymagająca',\n 'i',\n 'łatwo',\n 'mozna',\n 'sie',\n 'przy',\n 'niej',\n 'zestresować',\n '.',\n 'Ma',\n 'dośc',\n 'chłodne',\n 'podjescie',\n 'do',\n 'studentów',\n ',',\n 'ale',\n 'to',\n 'oczywiscie',\n 'zależy',\n 'od',\n 'humoru',\n 'Pani',\n 'Grażyny',\n '.',\n 'Wstep',\n 'do',\n 'Laboratorium',\n 'to',\n '40',\n 'minut',\n 'jazdy',\n 'bez',\n 'trzymanki',\n '.',\n 'Nawet',\n 'nie',\n 'wiesz',\n 'co',\n 'zanotować',\n '.',\n 'Jesli',\n 'sie',\n 'już',\n 'pytasz',\n 'o',\n 'coś',\n 'to',\n 'lepiej',\n 'miej',\n 'coś',\n 'w',\n 'głowie',\n ',',\n 'zeby',\n 'nie',\n 'powiedzieć',\n 'czegoś',\n 'głupiego',\n '.',\n 'Ogólnie',\n 'do',\n 'przejścia',\n 'kobieta',\n '.',\n 'Kotarba',\n 'Wiesław',\n ',',\n 'Prof',\n '.',\n 'Informacja',\n 'patentowa',\n 'Ocena',\n ':',\n 'Spoko',\n '[',\n '/',\n 'b',\n ']',\n 'Przedmiot',\n 'nudny',\n 'jak',\n 'cholera',\n ',',\n 'mimo',\n ',',\n 'ze',\n 'pierwszy',\n 'wykład',\n 'był',\n 'dość',\n 'ciekawy',\n '.',\n 'Mozna',\n 'sobie',\n 'pospać',\n 'na',\n 'zajęciach',\n '.',\n 'Do',\n 'tego',\n 'chyba',\n 'nie',\n 'sprawdza',\n 'obecności',\n '.',\n 'Na',\n 'zaliczenie',\n ...]"
     },
     "execution_count": 6,
     "metadata": {},
     "output_type": "execute_result"
    }
   ],
   "source": [
    "all_tokens"
   ],
   "metadata": {
    "collapsed": false,
    "pycharm": {
     "name": "#%%\n"
    }
   }
  },
  {
   "cell_type": "code",
   "execution_count": 7,
   "outputs": [
    {
     "data": {
      "text/plain": "                                              tokens  \\\n0  [Wykłady, strasznie, nudne, ,, totalna, porażk...   \n1  [Ogólnie, bardzo, pozytywny, choc, troche, zak...   \n2  [Pan, Krzysztof, to, ogólnie, bardzo, pozytywn...   \n3  [Wiesław, Dudek, Analiza, Matematyczna, I, Alg...   \n4  [Jankowska, Elżbieta, ,, dr, inż, ., Fizyka, L...   \n\n                                              labels  \n0  [1, 0, 0, 0, 0, 0, 0, 0, 0, 0, 0, 0, 0, 0, 0, ...  \n1  [0, 0, 0, 0, 0, 0, 4, 0, 0, 0, 1, 0, 0, 0, 0, ...  \n2  [5, 0, 0, 0, 0, 0, 0, 0, 0, 0, 6, 0, 0, 0, 0, ...  \n3  [3, 0, 3, 0, 0, 0, 0, 0, 6, 0, 0, 0, 0, 0, 0, ...  \n4  [3, 0, 0, 0, 0, 0, 2, 0, 0, 0, 0, 0, 0, 0, 0, ...  ",
      "text/html": "<div>\n<style scoped>\n    .dataframe tbody tr th:only-of-type {\n        vertical-align: middle;\n    }\n\n    .dataframe tbody tr th {\n        vertical-align: top;\n    }\n\n    .dataframe thead th {\n        text-align: right;\n    }\n</style>\n<table border=\"1\" class=\"dataframe\">\n  <thead>\n    <tr style=\"text-align: right;\">\n      <th></th>\n      <th>tokens</th>\n      <th>labels</th>\n    </tr>\n  </thead>\n  <tbody>\n    <tr>\n      <th>0</th>\n      <td>[Wykłady, strasznie, nudne, ,, totalna, porażk...</td>\n      <td>[1, 0, 0, 0, 0, 0, 0, 0, 0, 0, 0, 0, 0, 0, 0, ...</td>\n    </tr>\n    <tr>\n      <th>1</th>\n      <td>[Ogólnie, bardzo, pozytywny, choc, troche, zak...</td>\n      <td>[0, 0, 0, 0, 0, 0, 4, 0, 0, 0, 1, 0, 0, 0, 0, ...</td>\n    </tr>\n    <tr>\n      <th>2</th>\n      <td>[Pan, Krzysztof, to, ogólnie, bardzo, pozytywn...</td>\n      <td>[5, 0, 0, 0, 0, 0, 0, 0, 0, 0, 6, 0, 0, 0, 0, ...</td>\n    </tr>\n    <tr>\n      <th>3</th>\n      <td>[Wiesław, Dudek, Analiza, Matematyczna, I, Alg...</td>\n      <td>[3, 0, 3, 0, 0, 0, 0, 0, 6, 0, 0, 0, 0, 0, 0, ...</td>\n    </tr>\n    <tr>\n      <th>4</th>\n      <td>[Jankowska, Elżbieta, ,, dr, inż, ., Fizyka, L...</td>\n      <td>[3, 0, 0, 0, 0, 0, 2, 0, 0, 0, 0, 0, 0, 0, 0, ...</td>\n    </tr>\n  </tbody>\n</table>\n</div>"
     },
     "execution_count": 7,
     "metadata": {},
     "output_type": "execute_result"
    }
   ],
   "source": [
    "full_dataframe.head()"
   ],
   "metadata": {
    "collapsed": false,
    "pycharm": {
     "name": "#%%\n"
    }
   }
  },
  {
   "cell_type": "code",
   "execution_count": 8,
   "outputs": [],
   "source": [
    "labels_all = full_dataframe[\"labels\"].tolist()\n",
    "labels_all = [x for subarray in labels_all for x in subarray]"
   ],
   "metadata": {
    "collapsed": false,
    "pycharm": {
     "name": "#%%\n"
    }
   }
  },
  {
   "cell_type": "code",
   "execution_count": 9,
   "outputs": [
    {
     "data": {
      "text/plain": "[1,\n 0,\n 0,\n 0,\n 0,\n 0,\n 0,\n 0,\n 0,\n 0,\n 0,\n 0,\n 0,\n 0,\n 0,\n 0,\n 0,\n 3,\n 0,\n 0,\n 0,\n 0,\n 0,\n 0,\n 0,\n 0,\n 0,\n 0,\n 0,\n 3,\n 0,\n 0,\n 0,\n 0,\n 3,\n 0,\n 0,\n 0,\n 0,\n 0,\n 0,\n 0,\n 0,\n 0,\n 0,\n 0,\n 0,\n 0,\n 0,\n 0,\n 0,\n 0,\n 0,\n 0,\n 0,\n 0,\n 0,\n 4,\n 0,\n 0,\n 0,\n 1,\n 0,\n 0,\n 0,\n 0,\n 0,\n 0,\n 0,\n 0,\n 0,\n 0,\n 0,\n 0,\n 0,\n 3,\n 0,\n 0,\n 5,\n 0,\n 0,\n 0,\n 0,\n 0,\n 0,\n 0,\n 0,\n 0,\n 0,\n 0,\n 0,\n 0,\n 0,\n 3,\n 0,\n 0,\n 0,\n 0,\n 0,\n 5,\n 0,\n 0,\n 0,\n 0,\n 0,\n 0,\n 0,\n 0,\n 0,\n 6,\n 0,\n 0,\n 0,\n 0,\n 0,\n 0,\n 0,\n 0,\n 0,\n 0,\n 0,\n 5,\n 0,\n 0,\n 0,\n 0,\n 5,\n 0,\n 0,\n 0,\n 6,\n 0,\n 0,\n 0,\n 0,\n 0,\n 0,\n 0,\n 0,\n 0,\n 0,\n 0,\n 0,\n 0,\n 0,\n 0,\n 0,\n 0,\n 3,\n 0,\n 3,\n 0,\n 0,\n 0,\n 0,\n 0,\n 6,\n 0,\n 0,\n 0,\n 0,\n 0,\n 0,\n 0,\n 6,\n 0,\n 0,\n 0,\n 0,\n 0,\n 0,\n 0,\n 0,\n 2,\n 0,\n 0,\n 0,\n 0,\n 3,\n 0,\n 0,\n 0,\n 2,\n 0,\n 0,\n 0,\n 0,\n 0,\n 5,\n 0,\n 0,\n 0,\n 0,\n 0,\n 0,\n 0,\n 0,\n 0,\n 1,\n 0,\n 0,\n 0,\n 0,\n 0,\n 3,\n 0,\n 2,\n 0,\n 0,\n 0,\n 0,\n 0,\n 0,\n 0,\n 0,\n 0,\n 0,\n 0,\n 0,\n 0,\n 0,\n 0,\n 0,\n 0,\n 0,\n 0,\n 0,\n 0,\n 0,\n 0,\n 0,\n 0,\n 3,\n 0,\n 0,\n 0,\n 0,\n 0,\n 2,\n 0,\n 0,\n 0,\n 0,\n 0,\n 0,\n 0,\n 0,\n 0,\n 0,\n 0,\n 0,\n 0,\n 0,\n 0,\n 4,\n 0,\n 0,\n 0,\n 0,\n 0,\n 0,\n 0,\n 0,\n 0,\n 6,\n 0,\n 0,\n 0,\n 0,\n 0,\n 0,\n 0,\n 0,\n 0,\n 0,\n 0,\n 0,\n 0,\n 0,\n 0,\n 0,\n 0,\n 0,\n 0,\n 0,\n 0,\n 6,\n 0,\n 0,\n 1,\n 0,\n 0,\n 0,\n 0,\n 0,\n 0,\n 0,\n 0,\n 0,\n 0,\n 0,\n 0,\n 0,\n 0,\n 0,\n 0,\n 0,\n 1,\n 0,\n 0,\n 0,\n 0,\n 0,\n 0,\n 0,\n 0,\n 0,\n 0,\n 1,\n 0,\n 0,\n 0,\n 0,\n 0,\n 0,\n 0,\n 0,\n 0,\n 0,\n 0,\n 0,\n 0,\n 0,\n 0,\n 0,\n 0,\n 0,\n 0,\n 0,\n 3,\n 0,\n 0,\n 3,\n 3,\n 0,\n 0,\n 0,\n 0,\n 1,\n 0,\n 0,\n 0,\n 2,\n 0,\n 0,\n 0,\n 0,\n 0,\n 0,\n 0,\n 0,\n 0,\n 0,\n 4,\n 0,\n 0,\n 0,\n 0,\n 0,\n 0,\n 0,\n 1,\n 0,\n 0,\n 0,\n 0,\n 0,\n 0,\n 0,\n 0,\n 0,\n 0,\n 0,\n 0,\n 0,\n 0,\n 0,\n 0,\n 2,\n 0,\n 0,\n 0,\n 0,\n 1,\n 0,\n 0,\n 0,\n 0,\n 0,\n 0,\n 0,\n 3,\n 0,\n 0,\n 0,\n 0,\n 3,\n 0,\n 0,\n 0,\n 0,\n 0,\n 0,\n 0,\n 3,\n 0,\n 0,\n 0,\n 0,\n 3,\n 0,\n 0,\n 0,\n 0,\n 0,\n 5,\n 0,\n 0,\n 5,\n 0,\n 0,\n 0,\n 4,\n 0,\n 0,\n 0,\n 0,\n 0,\n 0,\n 0,\n 0,\n 0,\n 0,\n 0,\n 0,\n 1,\n 0,\n 0,\n 0,\n 3,\n 0,\n 0,\n 5,\n 0,\n 0,\n 0,\n 0,\n 0,\n 0,\n 0,\n 0,\n 0,\n 0,\n 0,\n 0,\n 5,\n 0,\n 0,\n 0,\n 0,\n 1,\n 0,\n 0,\n 0,\n 0,\n 0,\n 0,\n 0,\n 0,\n 0,\n 5,\n 0,\n 0,\n 0,\n 0,\n 0,\n 0,\n 0,\n 0,\n 0,\n 0,\n 5,\n 0,\n 0,\n 0,\n 0,\n 0,\n 5,\n 0,\n 0,\n 0,\n 0,\n 0,\n 0,\n 0,\n 0,\n 5,\n 0,\n 0,\n 0,\n 0,\n 0,\n 0,\n 3,\n 0,\n 0,\n 0,\n 3,\n 0,\n 0,\n 0,\n 5,\n 0,\n 0,\n 0,\n 0,\n 0,\n 0,\n 0,\n 0,\n 0,\n 0,\n 0,\n 0,\n 0,\n 0,\n 0,\n 0,\n 0,\n 0,\n 5,\n 0,\n 0,\n 0,\n 0,\n 0,\n 0,\n 4,\n 0,\n 0,\n 4,\n 0,\n 0,\n 0,\n 1,\n 0,\n 0,\n 0,\n 0,\n 0,\n 3,\n 0,\n 0,\n 0,\n 0,\n 0,\n 0,\n 0,\n 0,\n 3,\n 0,\n 0,\n 0,\n 0,\n 0,\n 5,\n 0,\n 0,\n 0,\n 0,\n 0,\n 0,\n 0,\n 0,\n 5,\n 0,\n 5,\n 0,\n 0,\n 0,\n 4,\n 0,\n 0,\n 0,\n 0,\n 0,\n 0,\n 0,\n 0,\n 0,\n 0,\n 0,\n 0,\n 0,\n 0,\n 0,\n 0,\n 1,\n 0,\n 0,\n 0,\n 0,\n 3,\n 0,\n 0,\n 0,\n 0,\n 0,\n 0,\n 0,\n 0,\n 0,\n 0,\n 0,\n 0,\n 0,\n 0,\n 3,\n 0,\n 0,\n 0,\n 0,\n 0,\n 0,\n 0,\n 0,\n 0,\n 0,\n 1,\n 0,\n 0,\n 0,\n 3,\n 0,\n 0,\n 0,\n 0,\n 0,\n 0,\n 0,\n 0,\n 0,\n 3,\n 0,\n 0,\n 0,\n 0,\n 0,\n 0,\n 0,\n 0,\n 0,\n 0,\n 3,\n 0,\n 0,\n 0,\n 0,\n 0,\n 0,\n 0,\n 0,\n 0,\n 0,\n 0,\n 0,\n 0,\n 0,\n 0,\n 0,\n 0,\n 0,\n 0,\n 0,\n 0,\n 3,\n 0,\n 5,\n 0,\n 0,\n 0,\n 0,\n 0,\n 0,\n 0,\n 0,\n 0,\n 0,\n 0,\n 0,\n 0,\n 0,\n 0,\n 0,\n 5,\n 0,\n 0,\n 0,\n 0,\n 0,\n 0,\n 0,\n 0,\n 0,\n 0,\n 0,\n 1,\n 0,\n 0,\n 0,\n 0,\n 0,\n 0,\n 0,\n 3,\n 0,\n 0,\n 0,\n 0,\n 0,\n 0,\n 0,\n 0,\n 3,\n 0,\n 0,\n 0,\n 0,\n 0,\n 0,\n 0,\n 0,\n 4,\n 0,\n 6,\n 0,\n 0,\n 0,\n 0,\n 0,\n 0,\n 0,\n 0,\n 0,\n 0,\n 0,\n 0,\n 0,\n 0,\n 0,\n 0,\n 0,\n 0,\n 0,\n 0,\n 0,\n 0,\n 0,\n 0,\n 0,\n 0,\n 0,\n 0,\n 0,\n 0,\n 0,\n 0,\n 0,\n 0,\n 0,\n 0,\n 0,\n 3,\n 4,\n 0,\n 0,\n 0,\n 0,\n 0,\n 0,\n 0,\n 0,\n 4,\n 0,\n 0,\n 0,\n 0,\n 0,\n 0,\n 0,\n 0,\n 0,\n 0,\n 0,\n 0,\n 0,\n 0,\n 4,\n 0,\n 0,\n 5,\n 0,\n 0,\n 0,\n 0,\n 0,\n 0,\n 0,\n 1,\n 0,\n 0,\n 0,\n 0,\n 3,\n 0,\n 0,\n 0,\n 0,\n 6,\n 0,\n 5,\n 0,\n 0,\n 0,\n 0,\n 0,\n 0,\n 5,\n 0,\n 0,\n 0,\n 0,\n 0,\n 3,\n 0,\n 0,\n 0,\n 3,\n 0,\n 0,\n 0,\n 0,\n 4,\n 0,\n 0,\n 0,\n 0,\n 0,\n 0,\n 0,\n 0,\n 0,\n 0,\n 0,\n 0,\n 0,\n 0,\n 0,\n 0,\n 4,\n 0,\n 0,\n 6,\n 0,\n 0,\n 0,\n 0,\n 6,\n 0,\n 0,\n 0,\n 0,\n 0,\n 0,\n 4,\n 0,\n 0,\n 0,\n 0,\n 0,\n 0,\n 3,\n 3,\n 0,\n 0,\n 0,\n 0,\n 0,\n 1,\n 0,\n 0,\n 2,\n 0,\n 0,\n 0,\n 0,\n 0,\n 0,\n 0,\n 0,\n 0,\n 0,\n 0,\n 0,\n 2,\n 0,\n 0,\n 0,\n 0,\n 1,\n 0,\n 0,\n 0,\n 0,\n 0,\n 0,\n 0,\n 0,\n 0,\n 0,\n 0,\n 0,\n 0,\n 0,\n 0,\n 0,\n 0,\n 0,\n 0,\n 0,\n 0,\n 0,\n 0,\n 0,\n 0,\n 0,\n 0,\n 0,\n 0,\n 0,\n 0,\n 0,\n 0,\n 0,\n 0,\n 4,\n 0,\n 3,\n 0,\n 0,\n 0,\n 0,\n 4,\n 0,\n 0,\n 0,\n 0,\n 0,\n 0,\n 0,\n 0,\n 1,\n 0,\n 0,\n 0,\n 0,\n 0,\n 0,\n 0,\n 0,\n 4,\n 0,\n 0,\n 0,\n 0,\n 0,\n 0,\n 0,\n 0,\n 6,\n 0,\n 0,\n 0,\n 0,\n 0,\n 0,\n 3,\n 0,\n 0,\n 3,\n ...]"
     },
     "execution_count": 9,
     "metadata": {},
     "output_type": "execute_result"
    }
   ],
   "source": [
    "labels_all"
   ],
   "metadata": {
    "collapsed": false,
    "pycharm": {
     "name": "#%%\n"
    }
   }
  },
  {
   "cell_type": "code",
   "execution_count": 10,
   "outputs": [],
   "source": [
    "full_df_unzipped = pd.DataFrame(\n",
    "    {\n",
    "        \"token\": all_tokens,\n",
    "        \"label\": labels_all,\n",
    "    }\n",
    ")"
   ],
   "metadata": {
    "collapsed": false,
    "pycharm": {
     "name": "#%%\n"
    }
   }
  },
  {
   "cell_type": "code",
   "execution_count": 16,
   "outputs": [],
   "source": [
    "full_df_unzipped = full_df_unzipped.loc[full_df_unzipped[\"label\"] != 0]\n",
    "possible_options = sorted(full_df_unzipped[\"label\"].unique())"
   ],
   "metadata": {
    "collapsed": false,
    "pycharm": {
     "name": "#%%\n"
    }
   }
  },
  {
   "cell_type": "code",
   "execution_count": 17,
   "outputs": [
    {
     "data": {
      "text/plain": "list"
     },
     "execution_count": 17,
     "metadata": {},
     "output_type": "execute_result"
    }
   ],
   "source": [
    "type(possible_options)"
   ],
   "metadata": {
    "collapsed": false,
    "pycharm": {
     "name": "#%%\n"
    }
   }
  },
  {
   "cell_type": "code",
   "execution_count": 18,
   "outputs": [
    {
     "data": {
      "text/plain": "[1, 2, 3, 4, 5, 6]"
     },
     "execution_count": 18,
     "metadata": {},
     "output_type": "execute_result"
    }
   ],
   "source": [
    "possible_options"
   ],
   "metadata": {
    "collapsed": false,
    "pycharm": {
     "name": "#%%\n"
    }
   }
  },
  {
   "cell_type": "code",
   "execution_count": 27,
   "outputs": [],
   "source": [
    "df_to_show = full_df_unzipped.loc[full_df_unzipped[\"label\"] == 1].groupby([\"token\"]).count().reset_index().rename(\n",
    "    {\"label\": \"no_occurences\"}, axis=1).sort_values(by=\"no_occurences\", ascending=False)"
   ],
   "metadata": {
    "collapsed": false,
    "pycharm": {
     "name": "#%%\n"
    }
   }
  },
  {
   "cell_type": "code",
   "execution_count": 28,
   "outputs": [
    {
     "data": {
      "text/plain": "           token  no_occurences\n2358          to             76\n256         Pani             73\n955         jest             59\n904       hotelu             50\n1777     polecam             46\n...          ...            ...\n1147  kwaterunek              1\n1148      kwiaty              1\n1149     kwiatöw              1\n1150       kwota              1\n2972       żurek              1\n\n[2973 rows x 2 columns]",
      "text/html": "<div>\n<style scoped>\n    .dataframe tbody tr th:only-of-type {\n        vertical-align: middle;\n    }\n\n    .dataframe tbody tr th {\n        vertical-align: top;\n    }\n\n    .dataframe thead th {\n        text-align: right;\n    }\n</style>\n<table border=\"1\" class=\"dataframe\">\n  <thead>\n    <tr style=\"text-align: right;\">\n      <th></th>\n      <th>token</th>\n      <th>no_occurences</th>\n    </tr>\n  </thead>\n  <tbody>\n    <tr>\n      <th>2358</th>\n      <td>to</td>\n      <td>76</td>\n    </tr>\n    <tr>\n      <th>256</th>\n      <td>Pani</td>\n      <td>73</td>\n    </tr>\n    <tr>\n      <th>955</th>\n      <td>jest</td>\n      <td>59</td>\n    </tr>\n    <tr>\n      <th>904</th>\n      <td>hotelu</td>\n      <td>50</td>\n    </tr>\n    <tr>\n      <th>1777</th>\n      <td>polecam</td>\n      <td>46</td>\n    </tr>\n    <tr>\n      <th>...</th>\n      <td>...</td>\n      <td>...</td>\n    </tr>\n    <tr>\n      <th>1147</th>\n      <td>kwaterunek</td>\n      <td>1</td>\n    </tr>\n    <tr>\n      <th>1148</th>\n      <td>kwiaty</td>\n      <td>1</td>\n    </tr>\n    <tr>\n      <th>1149</th>\n      <td>kwiatöw</td>\n      <td>1</td>\n    </tr>\n    <tr>\n      <th>1150</th>\n      <td>kwota</td>\n      <td>1</td>\n    </tr>\n    <tr>\n      <th>2972</th>\n      <td>żurek</td>\n      <td>1</td>\n    </tr>\n  </tbody>\n</table>\n<p>2973 rows × 2 columns</p>\n</div>"
     },
     "execution_count": 28,
     "metadata": {},
     "output_type": "execute_result"
    }
   ],
   "source": [
    "df_to_show"
   ],
   "metadata": {
    "collapsed": false,
    "pycharm": {
     "name": "#%%\n"
    }
   }
  },
  {
   "cell_type": "code",
   "execution_count": null,
   "outputs": [],
   "source": [],
   "metadata": {
    "collapsed": false,
    "pycharm": {
     "name": "#%%\n"
    }
   }
  }
 ],
 "metadata": {
  "kernelspec": {
   "display_name": "Python 3",
   "language": "python",
   "name": "python3"
  },
  "language_info": {
   "codemirror_mode": {
    "name": "ipython",
    "version": 2
   },
   "file_extension": ".py",
   "mimetype": "text/x-python",
   "name": "python",
   "nbconvert_exporter": "python",
   "pygments_lexer": "ipython2",
   "version": "2.7.6"
  }
 },
 "nbformat": 4,
 "nbformat_minor": 0
}